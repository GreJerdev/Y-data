{
 "cells": [
  {
   "cell_type": "markdown",
   "metadata": {},
   "source": [
    "# Neural Network using PyTorch"
   ]
  },
  {
   "cell_type": "markdown",
   "metadata": {},
   "source": [
    "In this exercise, you will build a neural network using PyTorch, and apply it to a dataset. Our goal in this exercise is not necessarily to obtain the best results on the dataset. We care more about understanding the different parameters, getting a hands-on experience training networks, and monitoring and debugging them. For this reason, I actually recommend that you don’t use a GPU, and run the code on your local machine, for simpler debugging.\n",
    "\n",
    "\n",
    "You can get relevant code snippets from [the PyTorch documentation](https://pytorch.org/tutorials/beginner/blitz/cifar10_tutorial.html) or other sources online. "
   ]
  },
  {
   "cell_type": "markdown",
   "metadata": {},
   "source": [
    "## Dataset\n",
    "We will use the CIFAR-10 dataset."
   ]
  },
  {
   "cell_type": "code",
   "execution_count": 1,
   "metadata": {
    "ExecuteTime": {
     "end_time": "2020-03-12T03:22:05.577442Z",
     "start_time": "2020-03-12T03:22:04.944943Z"
    }
   },
   "outputs": [],
   "source": [
    "import torch\n",
    "import torchvision\n",
    "import torchvision.transforms as transforms\n",
    "%matplotlib inline"
   ]
  },
  {
   "cell_type": "code",
   "execution_count": 2,
   "metadata": {
    "ExecuteTime": {
     "end_time": "2020-03-12T03:22:07.447520Z",
     "start_time": "2020-03-12T03:22:05.580433Z"
    },
    "scrolled": true
   },
   "outputs": [
    {
     "name": "stdout",
     "output_type": "stream",
     "text": [
      "Downloading https://www.cs.toronto.edu/~kriz/cifar-10-python.tar.gz to ./data/cifar-10-python.tar.gz\n"
     ]
    },
    {
     "data": {
      "application/vnd.jupyter.widget-view+json": {
       "model_id": "4b4398c6c4614306b2b2ec3af600c3cb",
       "version_major": 2,
       "version_minor": 0
      },
      "text/plain": [
       "HBox(children=(IntProgress(value=1, bar_style='info', max=1), HTML(value='')))"
      ]
     },
     "metadata": {},
     "output_type": "display_data"
    },
    {
     "name": "stdout",
     "output_type": "stream",
     "text": [
      "Extracting ./data/cifar-10-python.tar.gz to ./data\n",
      "Files already downloaded and verified\n"
     ]
    }
   ],
   "source": [
    "transform = transforms.Compose(\n",
    "    [transforms.ToTensor(),\n",
    "     transforms.Normalize((0.5, 0.5, 0.5), (0.5, 0.5, 0.5))])\n",
    "\n",
    "trainset = torchvision.datasets.CIFAR10(root='./data', train=True,\n",
    "                                        download=True, transform=transform)\n",
    "trainloader = torch.utils.data.DataLoader(trainset, batch_size=4,\n",
    "                                          shuffle=True, num_workers=2)\n",
    "\n",
    "testset = torchvision.datasets.CIFAR10(root='./data', train=False,\n",
    "                                       download=True, transform=transform)\n",
    "testloader = torch.utils.data.DataLoader(testset, batch_size=4,\n",
    "                                         shuffle=False, num_workers=2)\n",
    "\n",
    "classes = ('plane', 'car', 'bird', 'cat',\n",
    "           'deer', 'dog', 'frog', 'horse', 'ship', 'truck')"
   ]
  },
  {
   "cell_type": "code",
   "execution_count": 35,
   "metadata": {},
   "outputs": [
    {
     "name": "stdout",
     "output_type": "stream",
     "text": [
      "Dataset CIFAR10\n",
      "    Number of datapoints: 50000\n",
      "    Root location: ./data\n",
      "    Split: Train\n",
      "    StandardTransform\n",
      "Transform: Compose(\n",
      "               ToTensor()\n",
      "               Normalize(mean=(0.5, 0.5, 0.5), std=(0.5, 0.5, 0.5))\n",
      "           )\n"
     ]
    }
   ],
   "source": [
    "print(trainset)\n",
    "# print(classes)\n",
    "# print(trainset.classes)"
   ]
  },
  {
   "cell_type": "code",
   "execution_count": 33,
   "metadata": {},
   "outputs": [
    {
     "ename": "TypeError",
     "evalue": "object of type 'int' has no len()",
     "output_type": "error",
     "traceback": [
      "\u001b[0;31m---------------------------------------------------------------------------\u001b[0m",
      "\u001b[0;31mTypeError\u001b[0m                                 Traceback (most recent call last)",
      "\u001b[0;32m<ipython-input-33-222606eff948>\u001b[0m in \u001b[0;36m<module>\u001b[0;34m\u001b[0m\n\u001b[1;32m      1\u001b[0m \u001b[0;32mfor\u001b[0m \u001b[0mi\u001b[0m \u001b[0;32min\u001b[0m \u001b[0mrange\u001b[0m\u001b[0;34m(\u001b[0m\u001b[0mlen\u001b[0m\u001b[0;34m(\u001b[0m\u001b[0mtrainset\u001b[0m\u001b[0;34m.\u001b[0m\u001b[0mclasses\u001b[0m\u001b[0;34m)\u001b[0m\u001b[0;34m)\u001b[0m\u001b[0;34m:\u001b[0m\u001b[0;34m\u001b[0m\u001b[0m\n\u001b[1;32m      2\u001b[0m \u001b[0;31m#     qty = trainset.targets[trainset.targets==i].shape[0]\u001b[0m\u001b[0;34m\u001b[0m\u001b[0;34m\u001b[0m\u001b[0m\n\u001b[0;32m----> 3\u001b[0;31m     \u001b[0mqty\u001b[0m \u001b[0;34m=\u001b[0m \u001b[0mlen\u001b[0m\u001b[0;34m(\u001b[0m\u001b[0mtrainset\u001b[0m\u001b[0;34m.\u001b[0m\u001b[0mtargets\u001b[0m\u001b[0;34m[\u001b[0m\u001b[0mi\u001b[0m\u001b[0;34m]\u001b[0m\u001b[0;34m)\u001b[0m\u001b[0;34m\u001b[0m\u001b[0m\n\u001b[0m\u001b[1;32m      4\u001b[0m     \u001b[0mprint\u001b[0m\u001b[0;34m(\u001b[0m\u001b[0;34mf\"{trainset.classes[i]} {qty}\"\u001b[0m\u001b[0;34m)\u001b[0m\u001b[0;34m\u001b[0m\u001b[0m\n",
      "\u001b[0;31mTypeError\u001b[0m: object of type 'int' has no len()"
     ]
    }
   ],
   "source": [
    "for i in range(len(trainset.classes)):\n",
    "#     qty = trainset.targets[trainset.targets==i].shape[0]\n",
    "    qty = len(trainset.targets[i])\n",
    "    print(f\"{trainset.classes[i]} {qty}\")"
   ]
  },
  {
   "cell_type": "markdown",
   "metadata": {},
   "source": [
    "First, let's get to know the dataset. Plot a few examples of images and their labels:\n"
   ]
  },
  {
   "cell_type": "code",
   "execution_count": 5,
   "metadata": {},
   "outputs": [
    {
     "data": {
      "image/png": "[encoded data removed]",
      "text/plain": [
       "<Figure size 432x288 with 1 Axes>"
      ]
     },
     "metadata": {
      "needs_background": "light"
     },
     "output_type": "display_data"
    },
    {
     "name": "stdout",
     "output_type": "stream",
     "text": [
      " ship  frog   car   cat\n"
     ]
    }
   ],
   "source": [
    "import matplotlib.pyplot as plt\n",
    "import numpy as np\n",
    "\n",
    "def imshow(img):\n",
    "    img = img / 2 + 0.5     # unnormalize\n",
    "    npimg = img.numpy()\n",
    "    plt.imshow(np.transpose(npimg, (1, 2, 0)))\n",
    "    plt.show()\n",
    "\n",
    "\n",
    "# get some random training images\n",
    "dataiter = iter(trainloader)\n",
    "images, labels = dataiter.next()\n",
    "\n",
    "# show images\n",
    "imshow(torchvision.utils.make_grid(images))\n",
    "# print labels\n",
    "print(' '.join('%5s' % classes[labels[j]] for j in range(4)))"
   ]
  },
  {
   "cell_type": "markdown",
   "metadata": {},
   "source": [
    "Display the distribution of images per label."
   ]
  },
  {
   "cell_type": "code",
   "execution_count": null,
   "metadata": {},
   "outputs": [],
   "source": []
  },
  {
   "cell_type": "code",
   "execution_count": 5,
   "metadata": {
    "ExecuteTime": {
     "end_time": "2020-03-12T03:22:13.668056Z",
     "start_time": "2020-03-12T03:22:13.185607Z"
    }
   },
   "outputs": [
    {
     "data": {
      "text/plain": [
       "car      5000\n",
       "ship     5000\n",
       "frog     5000\n",
       "dog      5000\n",
       "bird     5000\n",
       "plane    5000\n",
       "cat      5000\n",
       "horse    5000\n",
       "deer     5000\n",
       "truck    5000\n",
       "dtype: int64"
      ]
     },
     "execution_count": 5,
     "metadata": {},
     "output_type": "execute_result"
    }
   ],
   "source": []
  },
  {
   "cell_type": "markdown",
   "metadata": {},
   "source": [
    "Is the data balanced? What effect is imbalanced data expected to have on your model's results? How can you work with imbalanced data?"
   ]
  },
  {
   "cell_type": "markdown",
   "metadata": {},
   "source": [
    "### Answer\n",
    "\n",
    "Yes, the data is balance, \n",
    "\n",
    "The unbalanced classes create a problem due to two main reasons:\n",
    "\n",
    "- We don’t get optimized results for the class which is unbalanced in real time as the model/algorithm never gets sufficient look at the underlying class\n",
    "\n",
    "- It creates a problem of making a validation or test sample as its difficult to have representation across classes in case number of observation for few classes is extremely less\n",
    "\n",
    "There are three main approaches to work with imbalanced data, each having its pros and cons:\n",
    "\n",
    "- Undersampling- Randomly delete the class which has sufficient observations so that the comparative ratio of two classes is significant in our data.Although this approach is really simple to follow but there is a high possibility that the data that we are deleting may contain important information about the predictive class.\n",
    "\n",
    "- Oversampling-For the unbalanced class randomly increase the number of observations which are just copies of existing samples.This ideally gives us sufficient number of samples to play with.The oversampling may lead to overfitting to the training data\n",
    "\n",
    "- Synthetic sampling(SMOTE)-The technique asks to synthetically manufacture observations of unbalanced classes which are similar to the existing using nearest neighbors classification.The problem is what to do when the number of observations of is an extremely rare class .For example-we may have only one picture of a rare species which we want to identify using image classification algorithm\n"
   ]
  },
  {
   "cell_type": "markdown",
   "metadata": {},
   "source": [
    "**NOTE:** It's a good practice when working on Neural Networks to start with a very small dataset and overfit on it. While we don't specifically ask you to do so in the sections below, we recommend that you take this approach, and first write and run your code using easy to use and debug platform, on a small dataset."
   ]
  },
  {
   "cell_type": "code",
   "execution_count": null,
   "metadata": {},
   "outputs": [],
   "source": []
  },
  {
   "cell_type": "markdown",
   "metadata": {},
   "source": [
    "## Build your own CNN classifier\n",
    "In this section, you will develop your own CNN classifier.\n",
    "\n",
    "This is meant as an opportunity to get more experience building your own NN architectures using PyTorch, and our focus is on making sure you rewrite and review the needed code and not on obtaining optimal performance. That being said, within the limits of the time you have, try to come up with a NN architecture and hyperparameters that would achieve nice results on the dataset.  \n",
    "We do recommend that you keep this to only 3-4 Conv layers and 1-2 fully connected layers."
   ]
  },
  {
   "cell_type": "markdown",
   "metadata": {},
   "source": [
    "If you want a starting point, you can create this network:\n",
    "\n",
    "```\n",
    "Net(\n",
    "  (conv1): Conv2d(3, 6, kernel_size=(5, 5), stride=(1, 1))\n",
    "  (pool): MaxPool2d(kernel_size=2, stride=2, padding=0, dilation=1, ceil_mode=False)\n",
    "  (conv2): Conv2d(6, 16, kernel_size=(5, 5), stride=(1, 1))\n",
    "  (fc1): Linear(in_features=400, out_features=120, bias=True)\n",
    "  (fc2): Linear(in_features=120, out_features=84, bias=True)\n",
    "  (fc3): Linear(in_features=84, out_features=10, bias=True)\n",
    ")\n",
    "```"
   ]
  },
  {
   "cell_type": "markdown",
   "metadata": {},
   "source": [
    "When training the network, use the Adam optimizer."
   ]
  },
  {
   "cell_type": "code",
   "execution_count": 43,
   "metadata": {
    "ExecuteTime": {
     "end_time": "2020-03-12T03:22:14.105625Z",
     "start_time": "2020-03-12T03:22:14.096637Z"
    }
   },
   "outputs": [],
   "source": [
    "# for evaluating the model\n",
    "from sklearn.metrics import accuracy_score\n",
    "from tqdm import tqdm\n",
    "\n",
    "# PyTorch libraries and modules\n",
    "import torch\n",
    "from torch.autograd import Variable\n",
    "from torch.nn import Linear, ReLU, CrossEntropyLoss, Sequential, Conv2d, MaxPool2d, Module, Softmax, BatchNorm2d, Dropout\n",
    "from torch.optim import Adam, SGD\n",
    "import torch.nn.functional as F\n",
    "from torch.utils.tensorboard import SummaryWriter\n",
    "writer = SummaryWriter()"
   ]
  },
  {
   "cell_type": "code",
   "execution_count": 38,
   "metadata": {
    "ExecuteTime": {
     "end_time": "2020-03-12T03:22:14.719122Z",
     "start_time": "2020-03-12T03:22:14.715095Z"
    }
   },
   "outputs": [],
   "source": [
    "\n",
    "train_x = trainset.data.reshape(50000, 3, 32, 32).astype(np.int32)\n",
    "train_x  = torch.from_numpy(train_x)\n",
    "\n",
    "train_y = np.array(trainset.targets);\n",
    "train_y = torch.from_numpy(train_y)"
   ]
  },
  {
   "cell_type": "code",
   "execution_count": 39,
   "metadata": {},
   "outputs": [],
   "source": [
    "# converting validation images into torch format\n",
    "val_x = testset.data.reshape(10000, 3, 32, 32)\n",
    "val_x  = torch.from_numpy(val_x)\n",
    "\n",
    "# converting the target into torch format\n",
    "val_y = np.array(testset.targets);\n",
    "val_y = torch.from_numpy(val_y)"
   ]
  },
  {
   "cell_type": "code",
   "execution_count": 47,
   "metadata": {},
   "outputs": [],
   "source": [
    "class Net(Module):   \n",
    "    def __init__(self):\n",
    "        super(Net, self).__init__()\n",
    "        self.cnn_layers = Sequential(\n",
    "            \n",
    "        Conv2d(3, 6, kernel_size=(3, 3), stride=(1, 1)),\n",
    "        BatchNorm2d(6),\n",
    "        ReLU(inplace=True),\n",
    "        MaxPool2d(kernel_size=2, stride=2, padding=0, dilation=1, ceil_mode=False),\n",
    "        Conv2d(6, 24, kernel_size=(5, 5), stride=(1, 1)),\n",
    "        BatchNorm2d(24),\n",
    "        ReLU(inplace=True),\n",
    "        MaxPool2d(kernel_size=2, stride=2, padding=0, dilation=1, ceil_mode=False),\n",
    "        Conv2d(24, 64, kernel_size=(3, 3), stride=(1, 1),padding=2),\n",
    "        BatchNorm2d(64),\n",
    "        ReLU(inplace=True),\n",
    "        Conv2d(64, 48, kernel_size=(1, 1), stride=(1, 1),padding=2),\n",
    "        BatchNorm2d(48),\n",
    "        ReLU(inplace=True),    \n",
    "        MaxPool2d(kernel_size=2, stride=2)            \n",
    "        \n",
    "\n",
    "        )\n",
    "        self.drop_out = Dropout()\n",
    "        self.fc1 = Linear(in_features=1200, out_features=120, bias=True)\n",
    "        self.fc2 = Linear(in_features=120, out_features=84, bias=True)\n",
    "        self.fc3 = Linear(in_features=84, out_features=10, bias=True)\n",
    "        self.softmax = Softmax(dim=1)\n",
    "\n",
    "    # Defining the forward pass    \n",
    "    def forward(self, input):\n",
    "      \n",
    "        output = self.cnn_layers(input)\n",
    "        output = self.drop_out(output)\n",
    "       \n",
    "        output = output.view(output.size(0),  48* 5* 5)\n",
    "       \n",
    "        output = self.fc1(output)\n",
    "        output = F.relu(self.fc2(output))\n",
    "        output = self.softmax(self.fc3(output))\n",
    "        return output"
   ]
  },
  {
   "cell_type": "code",
   "execution_count": 48,
   "metadata": {
    "scrolled": true
   },
   "outputs": [
    {
     "name": "stdout",
     "output_type": "stream",
     "text": [
      "Net(\n",
      "  (cnn_layers): Sequential(\n",
      "    (0): Conv2d(3, 6, kernel_size=(3, 3), stride=(1, 1))\n",
      "    (1): BatchNorm2d(6, eps=1e-05, momentum=0.1, affine=True, track_running_stats=True)\n",
      "    (2): ReLU(inplace=True)\n",
      "    (3): MaxPool2d(kernel_size=2, stride=2, padding=0, dilation=1, ceil_mode=False)\n",
      "    (4): Conv2d(6, 24, kernel_size=(5, 5), stride=(1, 1))\n",
      "    (5): BatchNorm2d(24, eps=1e-05, momentum=0.1, affine=True, track_running_stats=True)\n",
      "    (6): ReLU(inplace=True)\n",
      "    (7): MaxPool2d(kernel_size=2, stride=2, padding=0, dilation=1, ceil_mode=False)\n",
      "    (8): Conv2d(24, 64, kernel_size=(3, 3), stride=(1, 1), padding=(2, 2))\n",
      "    (9): BatchNorm2d(64, eps=1e-05, momentum=0.1, affine=True, track_running_stats=True)\n",
      "    (10): ReLU(inplace=True)\n",
      "    (11): Conv2d(64, 48, kernel_size=(1, 1), stride=(1, 1), padding=(2, 2))\n",
      "    (12): BatchNorm2d(48, eps=1e-05, momentum=0.1, affine=True, track_running_stats=True)\n",
      "    (13): ReLU(inplace=True)\n",
      "    (14): MaxPool2d(kernel_size=2, stride=2, padding=0, dilation=1, ceil_mode=False)\n",
      "  )\n",
      "  (drop_out): Dropout(p=0.5, inplace=False)\n",
      "  (fc1): Linear(in_features=1200, out_features=120, bias=True)\n",
      "  (fc2): Linear(in_features=120, out_features=84, bias=True)\n",
      "  (fc3): Linear(in_features=84, out_features=10, bias=True)\n",
      "  (softmax): Softmax(dim=1)\n",
      ")\n"
     ]
    }
   ],
   "source": [
    "#call this model, and define the optimizer and the loss function for the model\n",
    "# defining the model\n",
    "model = Net()\n",
    "# defining the optimizer (Adam optimizer)\n",
    "optimizer = Adam(model.parameters(), lr=0.001)\n",
    "# defining the loss function\n",
    "criterion = CrossEntropyLoss()\n",
    "\n",
    "print(model)"
   ]
  },
  {
   "cell_type": "code",
   "execution_count": 56,
   "metadata": {
    "scrolled": true
   },
   "outputs": [
    {
     "name": "stdout",
     "output_type": "stream",
     "text": [
      "time:20:59:18,  epoch [1/100],  Loss: 2.3033, Accuracy: 9.96%/0.10  correct:498 ,total 5000\n",
      "time:20:59:23,  epoch [2/100],  Loss: 2.2960, Accuracy: 14.60%/0.15  correct:730 ,total 5000\n",
      "time:20:59:27,  epoch [3/100],  Loss: 2.2872, Accuracy: 14.04%/0.14  correct:702 ,total 5000\n",
      "time:20:59:31,  epoch [4/100],  Loss: 2.2757, Accuracy: 17.00%/0.17  correct:850 ,total 5000\n",
      "time:20:59:35,  epoch [5/100],  Loss: 2.2628, Accuracy: 20.86%/0.21  correct:1043 ,total 5000\n",
      "time:20:59:39,  epoch [6/100],  Loss: 2.2520, Accuracy: 20.42%/0.20  correct:1021 ,total 5000\n",
      "time:20:59:44,  epoch [7/100],  Loss: 2.2395, Accuracy: 21.78%/0.22  correct:1089 ,total 5000\n",
      "time:20:59:48,  epoch [8/100],  Loss: 2.2288, Accuracy: 22.82%/0.23  correct:1141 ,total 5000\n",
      "time:20:59:53,  epoch [9/100],  Loss: 2.2199, Accuracy: 23.66%/0.24  correct:1183 ,total 5000\n",
      "time:20:59:58,  epoch [10/100],  Loss: 2.2146, Accuracy: 23.10%/0.23  correct:1155 ,total 5000\n",
      "time:21:00:02,  epoch [11/100],  Loss: 2.2064, Accuracy: 23.60%/0.24  correct:1180 ,total 5000\n",
      "time:21:00:06,  epoch [12/100],  Loss: 2.2001, Accuracy: 24.66%/0.25  correct:1233 ,total 5000\n",
      "time:21:00:11,  epoch [13/100],  Loss: 2.1935, Accuracy: 25.20%/0.25  correct:1260 ,total 5000\n",
      "time:21:00:15,  epoch [14/100],  Loss: 2.1888, Accuracy: 26.18%/0.26  correct:1309 ,total 5000\n",
      "time:21:00:19,  epoch [15/100],  Loss: 2.1806, Accuracy: 27.14%/0.27  correct:1357 ,total 5000\n",
      "time:21:00:24,  epoch [16/100],  Loss: 2.1761, Accuracy: 27.60%/0.28  correct:1380 ,total 5000\n",
      "time:21:00:28,  epoch [17/100],  Loss: 2.1709, Accuracy: 28.30%/0.28  correct:1415 ,total 5000\n",
      "time:21:00:32,  epoch [18/100],  Loss: 2.1641, Accuracy: 28.76%/0.29  correct:1438 ,total 5000\n",
      "time:21:00:37,  epoch [19/100],  Loss: 2.1584, Accuracy: 29.30%/0.29  correct:1465 ,total 5000\n",
      "time:21:00:41,  epoch [20/100],  Loss: 2.1508, Accuracy: 30.26%/0.30  correct:1513 ,total 5000\n",
      "time:21:00:45,  epoch [21/100],  Loss: 2.1455, Accuracy: 31.16%/0.31  correct:1558 ,total 5000\n",
      "time:21:00:50,  epoch [22/100],  Loss: 2.1401, Accuracy: 31.52%/0.32  correct:1576 ,total 5000\n",
      "time:21:00:54,  epoch [23/100],  Loss: 2.1343, Accuracy: 32.14%/0.32  correct:1607 ,total 5000\n",
      "time:21:00:59,  epoch [24/100],  Loss: 2.1311, Accuracy: 32.94%/0.33  correct:1647 ,total 5000\n",
      "time:21:01:03,  epoch [25/100],  Loss: 2.1279, Accuracy: 32.88%/0.33  correct:1644 ,total 5000\n",
      "time:21:01:07,  epoch [26/100],  Loss: 2.1228, Accuracy: 32.98%/0.33  correct:1649 ,total 5000\n",
      "time:21:01:11,  epoch [27/100],  Loss: 2.1211, Accuracy: 33.36%/0.33  correct:1668 ,total 5000\n",
      "time:21:01:15,  epoch [28/100],  Loss: 2.1170, Accuracy: 33.66%/0.34  correct:1683 ,total 5000\n",
      "time:21:01:20,  epoch [29/100],  Loss: 2.1125, Accuracy: 34.66%/0.35  correct:1733 ,total 5000\n",
      "time:21:01:24,  epoch [30/100],  Loss: 2.1085, Accuracy: 34.96%/0.35  correct:1748 ,total 5000\n",
      "time:21:01:28,  epoch [31/100],  Loss: 2.1049, Accuracy: 35.32%/0.35  correct:1766 ,total 5000\n",
      "time:21:01:32,  epoch [32/100],  Loss: 2.0994, Accuracy: 35.60%/0.36  correct:1780 ,total 5000\n",
      "time:21:01:37,  epoch [33/100],  Loss: 2.0963, Accuracy: 36.32%/0.36  correct:1816 ,total 5000\n",
      "time:21:01:41,  epoch [34/100],  Loss: 2.0944, Accuracy: 36.76%/0.37  correct:1838 ,total 5000\n",
      "time:21:01:46,  epoch [35/100],  Loss: 2.0925, Accuracy: 36.58%/0.37  correct:1829 ,total 5000\n",
      "time:21:01:50,  epoch [36/100],  Loss: 2.0880, Accuracy: 37.58%/0.38  correct:1879 ,total 5000\n",
      "time:21:01:54,  epoch [37/100],  Loss: 2.0843, Accuracy: 37.50%/0.38  correct:1875 ,total 5000\n",
      "time:21:01:59,  epoch [38/100],  Loss: 2.0842, Accuracy: 37.42%/0.37  correct:1871 ,total 5000\n",
      "time:21:02:03,  epoch [39/100],  Loss: 2.0828, Accuracy: 37.50%/0.38  correct:1875 ,total 5000\n",
      "time:21:02:08,  epoch [40/100],  Loss: 2.0794, Accuracy: 37.92%/0.38  correct:1896 ,total 5000\n",
      "time:21:02:12,  epoch [41/100],  Loss: 2.0719, Accuracy: 38.90%/0.39  correct:1945 ,total 5000\n",
      "time:21:02:16,  epoch [42/100],  Loss: 2.0720, Accuracy: 38.90%/0.39  correct:1945 ,total 5000\n",
      "time:21:02:21,  epoch [43/100],  Loss: 2.0676, Accuracy: 38.84%/0.39  correct:1942 ,total 5000\n",
      "time:21:02:25,  epoch [44/100],  Loss: 2.0669, Accuracy: 39.06%/0.39  correct:1953 ,total 5000\n",
      "time:21:02:30,  epoch [45/100],  Loss: 2.0599, Accuracy: 40.40%/0.40  correct:2020 ,total 5000\n",
      "time:21:02:34,  epoch [46/100],  Loss: 2.0645, Accuracy: 40.06%/0.40  correct:2003 ,total 5000\n",
      "time:21:02:38,  epoch [47/100],  Loss: 2.0612, Accuracy: 39.96%/0.40  correct:1998 ,total 5000\n",
      "time:21:02:43,  epoch [48/100],  Loss: 2.0587, Accuracy: 40.38%/0.40  correct:2019 ,total 5000\n",
      "time:21:02:47,  epoch [49/100],  Loss: 2.0536, Accuracy: 40.66%/0.41  correct:2033 ,total 5000\n",
      "time:21:02:51,  epoch [50/100],  Loss: 2.0520, Accuracy: 40.84%/0.41  correct:2042 ,total 5000\n",
      "time:21:02:55,  epoch [51/100],  Loss: 2.0474, Accuracy: 41.40%/0.41  correct:2070 ,total 5000\n",
      "time:21:02:59,  epoch [52/100],  Loss: 2.0459, Accuracy: 41.78%/0.42  correct:2089 ,total 5000\n",
      "time:21:03:04,  epoch [53/100],  Loss: 2.0453, Accuracy: 41.48%/0.41  correct:2074 ,total 5000\n",
      "time:21:03:09,  epoch [54/100],  Loss: 2.0434, Accuracy: 41.92%/0.42  correct:2096 ,total 5000\n",
      "time:21:03:13,  epoch [55/100],  Loss: 2.0396, Accuracy: 42.44%/0.42  correct:2122 ,total 5000\n",
      "time:21:03:17,  epoch [56/100],  Loss: 2.0344, Accuracy: 43.08%/0.43  correct:2154 ,total 5000\n",
      "time:21:03:22,  epoch [57/100],  Loss: 2.0349, Accuracy: 42.62%/0.43  correct:2131 ,total 5000\n",
      "time:21:03:26,  epoch [58/100],  Loss: 2.0345, Accuracy: 42.96%/0.43  correct:2148 ,total 5000\n",
      "time:21:03:30,  epoch [59/100],  Loss: 2.0305, Accuracy: 43.34%/0.43  correct:2167 ,total 5000\n",
      "time:21:03:34,  epoch [60/100],  Loss: 2.0266, Accuracy: 43.94%/0.44  correct:2197 ,total 5000\n",
      "time:21:03:38,  epoch [61/100],  Loss: 2.0221, Accuracy: 44.24%/0.44  correct:2212 ,total 5000\n",
      "time:21:03:43,  epoch [62/100],  Loss: 2.0242, Accuracy: 44.14%/0.44  correct:2207 ,total 5000\n",
      "time:21:03:47,  epoch [63/100],  Loss: 2.0246, Accuracy: 43.80%/0.44  correct:2190 ,total 5000\n",
      "time:21:03:51,  epoch [64/100],  Loss: 2.0202, Accuracy: 44.14%/0.44  correct:2207 ,total 5000\n",
      "time:21:03:56,  epoch [65/100],  Loss: 2.0120, Accuracy: 45.58%/0.46  correct:2279 ,total 5000\n",
      "time:21:04:00,  epoch [66/100],  Loss: 2.0125, Accuracy: 44.88%/0.45  correct:2244 ,total 5000\n",
      "time:21:04:04,  epoch [67/100],  Loss: 2.0102, Accuracy: 45.46%/0.45  correct:2273 ,total 5000\n",
      "time:21:04:08,  epoch [68/100],  Loss: 2.0130, Accuracy: 45.10%/0.45  correct:2255 ,total 5000\n",
      "time:21:04:13,  epoch [69/100],  Loss: 2.0161, Accuracy: 44.58%/0.45  correct:2229 ,total 5000\n",
      "time:21:04:17,  epoch [70/100],  Loss: 2.0069, Accuracy: 46.18%/0.46  correct:2309 ,total 5000\n",
      "time:21:04:21,  epoch [71/100],  Loss: 2.0090, Accuracy: 45.48%/0.45  correct:2274 ,total 5000\n",
      "time:21:04:25,  epoch [72/100],  Loss: 1.9990, Accuracy: 46.96%/0.47  correct:2348 ,total 5000\n",
      "time:21:04:29,  epoch [73/100],  Loss: 2.0012, Accuracy: 46.02%/0.46  correct:2301 ,total 5000\n",
      "time:21:04:34,  epoch [74/100],  Loss: 2.0001, Accuracy: 46.54%/0.47  correct:2327 ,total 5000\n",
      "time:21:04:38,  epoch [75/100],  Loss: 1.9995, Accuracy: 46.44%/0.46  correct:2322 ,total 5000\n",
      "time:21:04:42,  epoch [76/100],  Loss: 1.9925, Accuracy: 47.42%/0.47  correct:2371 ,total 5000\n",
      "time:21:04:47,  epoch [77/100],  Loss: 1.9994, Accuracy: 46.28%/0.46  correct:2314 ,total 5000\n",
      "time:21:04:51,  epoch [78/100],  Loss: 1.9942, Accuracy: 46.70%/0.47  correct:2335 ,total 5000\n",
      "time:21:04:56,  epoch [79/100],  Loss: 1.9892, Accuracy: 47.36%/0.47  correct:2368 ,total 5000\n",
      "time:21:05:00,  epoch [80/100],  Loss: 1.9911, Accuracy: 47.28%/0.47  correct:2364 ,total 5000\n",
      "time:21:05:04,  epoch [81/100],  Loss: 1.9891, Accuracy: 47.74%/0.48  correct:2387 ,total 5000\n",
      "time:21:05:08,  epoch [82/100],  Loss: 1.9873, Accuracy: 47.36%/0.47  correct:2368 ,total 5000\n",
      "time:21:05:13,  epoch [83/100],  Loss: 1.9831, Accuracy: 48.40%/0.48  correct:2420 ,total 5000\n",
      "time:21:05:17,  epoch [84/100],  Loss: 1.9879, Accuracy: 47.32%/0.47  correct:2366 ,total 5000\n",
      "time:21:05:21,  epoch [85/100],  Loss: 1.9867, Accuracy: 47.54%/0.48  correct:2377 ,total 5000\n",
      "time:21:05:25,  epoch [86/100],  Loss: 1.9825, Accuracy: 48.70%/0.49  correct:2435 ,total 5000\n",
      "time:21:05:29,  epoch [87/100],  Loss: 1.9773, Accuracy: 49.06%/0.49  correct:2453 ,total 5000\n"
     ]
    },
    {
     "name": "stdout",
     "output_type": "stream",
     "text": [
      "time:21:05:36,  epoch [88/100],  Loss: 1.9824, Accuracy: 48.20%/0.48  correct:2410 ,total 5000\n",
      "time:21:05:40,  epoch [89/100],  Loss: 1.9770, Accuracy: 48.98%/0.49  correct:2449 ,total 5000\n",
      "time:21:05:45,  epoch [90/100],  Loss: 1.9815, Accuracy: 48.36%/0.48  correct:2418 ,total 5000\n",
      "time:21:05:50,  epoch [91/100],  Loss: 1.9714, Accuracy: 49.32%/0.49  correct:2466 ,total 5000\n",
      "time:21:05:54,  epoch [92/100],  Loss: 1.9765, Accuracy: 48.72%/0.49  correct:2436 ,total 5000\n",
      "time:21:05:58,  epoch [93/100],  Loss: 1.9681, Accuracy: 49.76%/0.50  correct:2488 ,total 5000\n",
      "time:21:06:03,  epoch [94/100],  Loss: 1.9732, Accuracy: 48.96%/0.49  correct:2448 ,total 5000\n",
      "time:21:06:07,  epoch [95/100],  Loss: 1.9633, Accuracy: 50.18%/0.50  correct:2509 ,total 5000\n",
      "time:21:06:11,  epoch [96/100],  Loss: 1.9658, Accuracy: 50.12%/0.50  correct:2506 ,total 5000\n",
      "time:21:06:15,  epoch [97/100],  Loss: 1.9700, Accuracy: 49.16%/0.49  correct:2458 ,total 5000\n",
      "time:21:06:19,  epoch [98/100],  Loss: 1.9595, Accuracy: 50.68%/0.51  correct:2534 ,total 5000\n",
      "time:21:06:24,  epoch [99/100],  Loss: 1.9625, Accuracy: 50.30%/0.50  correct:2515 ,total 5000\n",
      "time:21:06:28,  epoch [100/100],  Loss: 1.9619, Accuracy: 50.38%/0.50  correct:2519 ,total 5000\n"
     ]
    },
    {
     "data": {
      "text/plain": [
       "<bound method SummaryWriter.close of <torch.utils.tensorboard.writer.SummaryWriter object at 0x144591048>>"
      ]
     },
     "execution_count": 56,
     "metadata": {},
     "output_type": "execute_result"
    }
   ],
   "source": [
    "# Train the model\n",
    "import time\n",
    "time.strftime('%X')\n",
    "num_epochs = 100\n",
    "total_step = int(train_x.shape[0]/num_epochs)\n",
    "loss_list = []\n",
    "acc_list = []\n",
    "writer = SummaryWriter()\n",
    "\n",
    "model.train()\n",
    "\n",
    "items = np.arange(train_x.shape[0])\n",
    "items_index = np.random.choice(items, size=5000, replace=False)\n",
    "x_train, y_train = Variable(train_x), Variable(train_y)\n",
    "\n",
    "for epoch in range(num_epochs):\n",
    "\n",
    "    optimizer.zero_grad()\n",
    "    # Run the forward pass\n",
    "\n",
    "    outputs = model.forward(train_x[items_index].float())\n",
    "    loss = criterion(outputs, train_y[items_index])\n",
    "\n",
    "    # Backprop and perform Adam optimisation\n",
    "\n",
    "    loss.backward()\n",
    "    optimizer.step()\n",
    "\n",
    "    loss_list.append(loss.item())\n",
    "    # Track the accuracy\n",
    "    total =  train_y[items_index].size(0)\n",
    "    _, predicted = torch.max(outputs.data, 1)\n",
    "    correct = (predicted == train_y[items_index]).sum().item()\n",
    "    acc_list.append(correct / total)\n",
    "    # Compute accuracy\n",
    "    _, argmax = torch.max(outputs, 1)\n",
    "    accuracy = (train_y[items_index] == argmax.squeeze()).float().mean()\n",
    "\n",
    "    if (epoch) % 1 == 0:\n",
    "        print('time:{},  epoch [{}/{}],  Loss: {:.4f}, Accuracy: {:.2f}%/{:.2f}  correct:{} ,total {}'\n",
    "          .format(time.strftime('%X'), epoch + 1,num_epochs,loss.item(),\n",
    "                  (correct / total) * 100,accuracy.item(),correct , total))\n",
    "\n",
    "        # ================================================================== #\n",
    "        #                        Tensorboard Logging                         #\n",
    "        # ================================================================== #\n",
    "\n",
    "        # 1. Log scalar values (scalar summary)\n",
    "        info = { 'loss': loss.item(), 'accuracy': accuracy.item() }\n",
    "\n",
    "        for tag, value in info.items():\n",
    "        #    print(tag, value)\n",
    "            writer.add_scalar(tag, value, epoch+1)\n",
    "\n",
    "        # 2. Log values and gradients of the parameters (histogram summary)\n",
    "        for tag, value in model.named_parameters():\n",
    "            tag = tag.replace('.', '/')\n",
    "            writer.add_histogram(tag, value.data.cpu().numpy(), epoch+1)\n",
    "            writer.add_histogram(tag+'/grad', value.grad.data.cpu().numpy(), epoch+1)\n",
    "\n",
    "        # 3. Log training images (image summary)\n",
    "        info = { 'images': train_x[items_index].view(-1,3,32, 32)[:10].cpu().numpy() }\n",
    "        info = { 'images': train_x[items_index][:10].cpu().numpy() }\n",
    "\n",
    "        for tag, images in info.items():\n",
    "            writer.add_images(tag, images, epoch+1)     \n",
    "writer.add_graph(model, train_x[items_index].float())  \n",
    "writer.close"
   ]
  },
  {
   "cell_type": "code",
   "execution_count": 57,
   "metadata": {},
   "outputs": [
    {
     "data": {
      "image/png": "[encoded data removed]",
      "text/plain": [
       "<Figure size 432x288 with 1 Axes>"
      ]
     },
     "metadata": {
      "needs_background": "light"
     },
     "output_type": "display_data"
    }
   ],
   "source": [
    "plt.plot(loss_list, label='Training loss')\n",
    "#plt.plot(val_losses, label='Validation loss')\n",
    "plt.legend()\n",
    "plt.show()"
   ]
  },
  {
   "cell_type": "code",
   "execution_count": 60,
   "metadata": {},
   "outputs": [
    {
     "name": "stdout",
     "output_type": "stream",
     "text": [
      "3438\n"
     ]
    }
   ],
   "source": [
    "outputs = model(val_x.float())\n",
    "_, predicted = torch.max(outputs.data, 1)\n",
    "correct = (predicted == val_y).sum().item()\n",
    "\n",
    "#print(correct.shape)\n",
    "\n",
    "# for i in range(outputs.shape[0]):\n",
    "#     if((predicted[i] == val_y[i])):\n",
    "#         pass\n",
    "        #print(trainset.classes[testset.targets[i]])\n",
    "        #plt.imshow(testset.data[i])\n",
    "        #plt.show()\n",
    "        \n",
    "print(correct)"
   ]
  },
  {
   "cell_type": "markdown",
   "metadata": {},
   "source": [
    "## Tensorboard\n",
    "TensorBoard provides visualization and tooling for machine learning experimentation:\n",
    "- Tracking and visualizing metrics such as loss and accuracy\n",
    "- Visualizing the model graph (ops and layers)\n",
    "- Viewing histograms of weights, biases, or other tensors as they change over time\n",
    "- Projecting embeddings to a lower dimensional space\n",
    "- Displaying images, text, and audio data\n",
    "- Profiling programs\n",
    "\n",
    "Tensorboard worked originally with Tensorflow but can now be used with PyTorch as well.  \n",
    "You can embed a tensorboard widget in a Jupyter Notebook, although if you're not using Google Colab we recommend that you open tensorboard separately."
   ]
  },
  {
   "cell_type": "markdown",
   "metadata": {},
   "source": [
    "To get started with Tensorboard, please read the following pages:\n",
    "\n",
    "PyTorch related:\n",
    "1. https://pytorch.org/tutorials/intermediate/tensorboard_tutorial.html\n",
    "1. https://becominghuman.ai/logging-in-tensorboard-with-pytorch-or-any-other-library-c549163dee9e\n",
    "1. https://towardsdatascience.com/https-medium-com-dinber19-take-a-deeper-look-at-your-pytorch-model-with-the-new-tensorboard-built-in-513969cf6a72\n",
    "1. https://pytorch.org/docs/stable/tensorboard.html\n",
    "1. https://github.com/yunjey/pytorch-tutorial/tree/master/tutorials/04-utils/tensorboard\n",
    "\n",
    "Tensorflow related:\n",
    "1. https://itnext.io/how-to-use-tensorboard-5d82f8654496\n",
    "1. https://www.datacamp.com/community/tutorials/tensorboard-tutorial\n",
    "1. https://medium.com/@anthony_sarkis/tensorboard-quick-start-in-5-minutes-e3ec69f673af\n",
    "1. https://www.guru99.com/tensorboard-tutorial.html\n",
    "1. https://www.youtube.com/watch?time_continue=1&v=s-lHP8v9qzY&feature=emb_logo\n",
    "1. https://www.youtube.com/watch?v=pSexXMdruFM\n"
   ]
  },
  {
   "cell_type": "markdown",
   "metadata": {},
   "source": [
    "### Starting Tensorboard\n",
    "Jupyter Notebook has extensions for displaying TensorBoard inside the notebook. Still, I recommend that you run it separately, as it tends to get stuck in notebooks.\n",
    "\n",
    "The syntax to load TensorBoard in a notebook is this:\n",
    "```python\n",
    "# Load the TensorBoard notebook extension\n",
    "%load_ext tensorboard\n",
    "%tensorboard --logdir ./logs\n",
    "```"
   ]
  },
  {
   "cell_type": "markdown",
   "metadata": {},
   "source": [
    "In the shell, you can instead run:\n",
    "```\n",
    "tensorboard --logdir ./logs\n",
    "```"
   ]
  },
  {
   "cell_type": "code",
   "execution_count": 64,
   "metadata": {},
   "outputs": [
    {
     "name": "stdout",
     "output_type": "stream",
     "text": [
      "\u001b[31mConvolution model - Step by Step - v1.ipynb\u001b[m\u001b[m*\r\n",
      "NN_in_pytorch.ipynb\r\n",
      "\u001b[34mdata\u001b[m\u001b[m/\r\n",
      "\u001b[34mimages\u001b[m\u001b[m/\r\n",
      "\u001b[34mruns\u001b[m\u001b[m/\r\n"
     ]
    }
   ],
   "source": [
    "ls"
   ]
  },
  {
   "cell_type": "code",
   "execution_count": 62,
   "metadata": {
    "ExecuteTime": {
     "end_time": "2020-03-12T03:22:21.503129Z",
     "start_time": "2020-03-12T03:22:18.807319Z"
    }
   },
   "outputs": [
    {
     "name": "stdout",
     "output_type": "stream",
     "text": [
      "The tensorboard extension is already loaded. To reload it, use:\n",
      "  %reload_ext tensorboard\n"
     ]
    },
    {
     "data": {
      "text/plain": [
       "ERROR: Failed to launch TensorBoard (exited with 1).\n",
       "Contents of stderr:\n",
       "Traceback (most recent call last):\n",
       "  File \"/Library/Frameworks/Python.framework/Versions/3.7/bin/tensorboard\", line 10, in <module>\n",
       "    sys.exit(run_main())\n",
       "  File \"/Library/Frameworks/Python.framework/Versions/3.7/lib/python3.7/site-packages/tensorboard/main.py\", line 66, in run_main\n",
       "    app.run(tensorboard.main, flags_parser=tensorboard.configure)\n",
       "  File \"/Library/Frameworks/Python.framework/Versions/3.7/lib/python3.7/site-packages/absl/app.py\", line 293, in run\n",
       "    flags_parser,\n",
       "  File \"/Library/Frameworks/Python.framework/Versions/3.7/lib/python3.7/site-packages/absl/app.py\", line 362, in _run_init\n",
       "    flags_parser=flags_parser,\n",
       "  File \"/Library/Frameworks/Python.framework/Versions/3.7/lib/python3.7/site-packages/absl/app.py\", line 212, in _register_and_parse_flags_with_usage\n",
       "    args_to_main = flags_parser(original_argv)\n",
       "  File \"/Library/Frameworks/Python.framework/Versions/3.7/lib/python3.7/site-packages/tensorboard/program.py\", line 215, in configure\n",
       "    flags = base_parser.parse_args(argv[1:])  # Strip binary name from argv.\n",
       "  File \"/Library/Frameworks/Python.framework/Versions/3.7/lib/python3.7/argparse.py\", line 1745, in parse_args\n",
       "    args, argv = self.parse_known_args(args, namespace)\n",
       "  File \"/Library/Frameworks/Python.framework/Versions/3.7/lib/python3.7/site-packages/absl/flags/argparse_flags.py\", line 169, in parse_known_args\n",
       "    args, namespace)\n",
       "  File \"/Library/Frameworks/Python.framework/Versions/3.7/lib/python3.7/argparse.py\", line 1777, in parse_known_args\n",
       "    namespace, args = self._parse_known_args(args, namespace)\n",
       "  File \"/Library/Frameworks/Python.framework/Versions/3.7/lib/python3.7/argparse.py\", line 2012, in _parse_known_args\n",
       "    ', '.join(required_actions))\n",
       "TypeError: sequence item 0: expected str instance, NoneType found"
      ]
     },
     "metadata": {},
     "output_type": "display_data"
    }
   ],
   "source": [
    "%load_ext tensorboard\n",
    "%tensorboard --logdir ./runs"
   ]
  },
  {
   "cell_type": "markdown",
   "metadata": {},
   "source": [
    "### Show images using TensorBoard"
   ]
  },
  {
   "cell_type": "code",
   "execution_count": 9,
   "metadata": {
    "ExecuteTime": {
     "end_time": "2020-03-12T03:22:25.305404Z",
     "start_time": "2020-03-12T03:22:22.367810Z"
    }
   },
   "outputs": [],
   "source": []
  },
  {
   "cell_type": "markdown",
   "metadata": {},
   "source": [
    "### Inspect the model graph\n",
    "You can print a network object to find useful information about it:"
   ]
  },
  {
   "cell_type": "code",
   "execution_count": null,
   "metadata": {
    "ExecuteTime": {
     "end_time": "2020-03-12T03:39:13.437035Z",
     "start_time": "2020-03-12T03:39:13.433000Z"
    }
   },
   "outputs": [],
   "source": [
    "print(net)"
   ]
  },
  {
   "cell_type": "markdown",
   "metadata": {},
   "source": [
    "TensorBoard can help visualize the network graph. It takes practice to read these.  \n",
    "\n",
    "Write the graph to TensorBoard and review it."
   ]
  },
  {
   "cell_type": "code",
   "execution_count": 10,
   "metadata": {
    "ExecuteTime": {
     "end_time": "2020-03-12T03:22:27.132650Z",
     "start_time": "2020-03-12T03:22:27.080267Z"
    }
   },
   "outputs": [],
   "source": []
  },
  {
   "cell_type": "markdown",
   "metadata": {},
   "source": [
    "You can also use the package `torchsummary` for a fuller info on the model:"
   ]
  },
  {
   "cell_type": "code",
   "execution_count": 13,
   "metadata": {
    "ExecuteTime": {
     "end_time": "2020-03-12T03:39:34.927085Z",
     "start_time": "2020-03-12T03:39:30.883979Z"
    }
   },
   "outputs": [
    {
     "name": "stdout",
     "output_type": "stream",
     "text": [
      "Collecting torchsummary\n",
      "  Downloading https://files.pythonhosted.org/packages/7d/18/1474d06f721b86e6a9b9d7392ad68bed711a02f3b61ac43f13c719db50a6/torchsummary-1.5.1-py3-none-any.whl\n",
      "Installing collected packages: torchsummary\n",
      "Successfully installed torchsummary-1.5.1\n"
     ]
    }
   ],
   "source": [
    "!pip install torchsummary"
   ]
  },
  {
   "cell_type": "code",
   "execution_count": null,
   "metadata": {
    "ExecuteTime": {
     "end_time": "2020-03-12T03:40:32.330002Z",
     "start_time": "2020-03-12T03:40:32.304145Z"
    }
   },
   "outputs": [],
   "source": [
    "channels=3; H=32; W=32\n",
    "from torchsummary import summary\n",
    "summary(net, input_size=(channels, H, W))"
   ]
  },
  {
   "cell_type": "markdown",
   "metadata": {},
   "source": [
    "## Train the network\n",
    "Next, we'll train the network. In the training loop, log relevant metrics that would allow you to plot in TensorBoard:"
   ]
  },
  {
   "cell_type": "markdown",
   "metadata": {},
   "source": [
    "1. The network loss\n",
    "1. Train and test error\n",
    "1. Average weight in the first layer\n",
    "1. Histogram of weights in the first layer"
   ]
  },
  {
   "cell_type": "code",
   "execution_count": null,
   "metadata": {
    "ExecuteTime": {
     "end_time": "2020-03-12T02:25:56.483936Z",
     "start_time": "2020-03-12T02:17:35.780050Z"
    }
   },
   "outputs": [],
   "source": []
  },
  {
   "cell_type": "markdown",
   "metadata": {},
   "source": [
    "### Precision-Recall Curve\n",
    "Use TensorBoard to plot the precision-recall curve:"
   ]
  },
  {
   "cell_type": "code",
   "execution_count": null,
   "metadata": {},
   "outputs": [],
   "source": []
  },
  {
   "cell_type": "markdown",
   "metadata": {},
   "source": [
    "### Display Model Errors\n",
    "A valuable practice is to review errors made by the model in the test set. These might reveal cases of bad preprocessing or lead to come up with improvements to your original model.\n",
    "\n",
    "Show 12 images of errors made by the model. For each, display the true and predicted classes, and the model confidence in its answer."
   ]
  },
  {
   "cell_type": "code",
   "execution_count": null,
   "metadata": {},
   "outputs": [],
   "source": []
  },
  {
   "cell_type": "markdown",
   "metadata": {},
   "source": [
    "## Batch Normalization\n",
    "In this section, we'll add a Batch Norm layer to your network.  \n",
    "Use TensorBoard to compare the network's convergence (train and validation loss) with and without Batch Normalization."
   ]
  },
  {
   "cell_type": "code",
   "execution_count": 18,
   "metadata": {
    "ExecuteTime": {
     "end_time": "2020-03-12T02:02:02.225508Z",
     "start_time": "2020-03-12T02:02:02.204005Z"
    }
   },
   "outputs": [],
   "source": []
  },
  {
   "cell_type": "markdown",
   "metadata": {},
   "source": [
    "Use TensorBoard to plot the distribution of activations with and without Batch Normalization."
   ]
  },
  {
   "cell_type": "code",
   "execution_count": null,
   "metadata": {},
   "outputs": [],
   "source": []
  },
  {
   "cell_type": "code",
   "execution_count": null,
   "metadata": {},
   "outputs": [],
   "source": []
  },
  {
   "cell_type": "code",
   "execution_count": null,
   "metadata": {},
   "outputs": [],
   "source": []
  },
  {
   "cell_type": "markdown",
   "metadata": {},
   "source": [
    "## Data Augmentation\n",
    "Augmenting the data is a useful trick to increase the size of the training set and reduce the generalization error.  \n",
    "\n",
    "Useful resources: \n",
    "- [Explanation about augmentation](https://www.analyticsvidhya.com/blog/2019/12/image-augmentation-deep-learning-pytorch/)\n",
    "- The [torchvision transforms documentation](https://pytorch.org/docs/stable/torchvision/transforms.html)\n",
    "- The [albumentations](https://github.com/albumentations-team/albumentations) repo"
   ]
  },
  {
   "cell_type": "markdown",
   "metadata": {},
   "source": [
    "Try to think which transformation can be useful for data augmentation for our task?"
   ]
  },
  {
   "cell_type": "code",
   "execution_count": null,
   "metadata": {},
   "outputs": [],
   "source": []
  },
  {
   "cell_type": "markdown",
   "metadata": {},
   "source": [
    "Apply 1 or 2 basic transformations and check how they affect the network's performance:"
   ]
  },
  {
   "cell_type": "code",
   "execution_count": null,
   "metadata": {},
   "outputs": [],
   "source": []
  },
  {
   "cell_type": "markdown",
   "metadata": {},
   "source": [
    "## Transfer learning using a NN pre-trained on ImageNet\n",
    "In this section, we will use a pretrained network and build a classifier using it to predict the labels of our task."
   ]
  },
  {
   "cell_type": "markdown",
   "metadata": {},
   "source": [
    "You might find these resources useful:\n",
    "- https://pytorch.org/tutorials/beginner/transfer_learning_tutorial.html\n",
    "- https://towardsdatascience.com/transfer-learning-with-convolutional-neural-networks-in-pytorch-dd09190245ce\n",
    "- https://www.analyticsvidhya.com/blog/2019/10/how-to-master-transfer-learning-using-pytorch/\n",
    "- https://heartbeat.fritz.ai/transfer-learning-with-pytorch-cfcb69016c72"
   ]
  },
  {
   "cell_type": "markdown",
   "metadata": {},
   "source": [
    "### Use a frozen pre-trained network\n",
    "Use a VGG-16 network, including its weights pretrained on ImageNet.  \n",
    "Use the pretrained network to obtain the distributed representation in the final layer (the one before the output softmax layer). Freeze the network weights, and add 2 fully connected layers on top of it to classify the images."
   ]
  },
  {
   "cell_type": "code",
   "execution_count": null,
   "metadata": {},
   "outputs": [],
   "source": []
  },
  {
   "cell_type": "markdown",
   "metadata": {},
   "source": [
    "### Fine tuning the weights\n",
    "In this section, we'll unfreeze the pre-trained weights of the network and allow them to change.  \n",
    "Be careful - when fine-tuning a network, there is a risk that our attempt to allow the network to adapt to the new domain will lead to a \"catastrophic forgetting\" of what it had previously learnt."
   ]
  },
  {
   "cell_type": "code",
   "execution_count": null,
   "metadata": {},
   "outputs": [],
   "source": []
  },
  {
   "cell_type": "markdown",
   "metadata": {},
   "source": [
    "## Suggested Resources\n",
    "1. A good explanation of the different losses - https://gombru.github.io/2019/04/03/ranking_loss/\n",
    "1. A repo with code implementing CNN classifiers, Siamese networks and Triplet loss with different selection regimes for the MNIST and Fashion-MNIST datasets - https://github.com/adambielski/siamese-triplet\n",
    "1. There are several resources online for the VGG-Face network (see https://www.robots.ox.ac.uk/~vgg/publications/2015/Parkhi15/parkhi15.pdf), that include pre-trained weights on a face recognition dataset. The weights are here - http://www.robots.ox.ac.uk/~vgg/software/vgg_face/, and PyTorch models are here - http://www.robots.ox.ac.uk/~albanie/pytorch-models.html, and you can also check out https://github.com/prlz77/vgg-face.pytorch and https://github.com/claudio-unipv/vggface-pytorch."
   ]
  },
  {
   "cell_type": "code",
   "execution_count": null,
   "metadata": {},
   "outputs": [],
   "source": []
  }
 ],
 "metadata": {
  "kernelspec": {
   "display_name": "Python 3",
   "language": "python",
   "name": "python3"
  },
  "language_info": {
   "codemirror_mode": {
    "name": "ipython",
    "version": 3
   },
   "file_extension": ".py",
   "mimetype": "text/x-python",
   "name": "python",
   "nbconvert_exporter": "python",
   "pygments_lexer": "ipython3",
   "version": "3.7.0b4"
  }
 },
 "nbformat": 4,
 "nbformat_minor": 2
}
