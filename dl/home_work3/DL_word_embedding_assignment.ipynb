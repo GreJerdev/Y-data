{
 "cells": [
  {
   "cell_type": "markdown",
   "metadata": {
    "colab_type": "text",
    "id": "view-in-github"
   },
   "source": [
    "<a href=\"https://colab.research.google.com/github/GreJerdev/Y-data/blob/master/dl/home_work3/DL_word_embedding_assignment.ipynb\" target=\"_parent\"><img src=\"https://colab.research.google.com/assets/colab-badge.svg\" alt=\"Open In Colab\"/></a>"
   ]
  },
  {
   "cell_type": "markdown",
   "metadata": {
    "colab_type": "text",
    "id": "nwOajtwGzpEQ"
   },
   "source": [
    "# Word Embedding - Home Assigment\n",
    "## Dr. Omri Allouche 2018. YData Deep Learning Course\n",
    "\n",
    "[Open in Google Colab](https://colab.research.google.com/github/omriallouche/deep_learning_course/blob/master/DL_word_embedding_assignment.ipynb)\n",
    "    \n",
    "    \n",
    "In this exercise, you'll use word vectors trained on a corpus of 380,000 lyrics of songs from MetroLyrics (https://www.kaggle.com/gyani95/380000-lyrics-from-metrolyrics).  \n",
    "The dataset contains these fields for each song, in CSV format:\n",
    "1. index\n",
    "1. song\n",
    "1. year\n",
    "1. artist\n",
    "1. genre\n",
    "1. lyrics\n",
    "\n",
    "Before doing this exercise, we recommend that you go over the \"Bag of words meets bag of popcorn\" tutorial (https://www.kaggle.com/c/word2vec-nlp-tutorial)\n",
    "\n",
    "Other recommended resources:\n",
    "- https://rare-technologies.com/word2vec-tutorial/\n",
    "- https://www.kaggle.com/pierremegret/gensim-word2vec-tutorial"
   ]
  },
  {
   "cell_type": "markdown",
   "metadata": {
    "colab_type": "text",
    "id": "FGblAtuKzpER"
   },
   "source": [
    "### Train word vectors\n",
    "Train word vectors using the Skipgram Word2vec algorithm and the gensim package.\n",
    "Make sure you perform the following:\n",
    "- Tokenize words\n",
    "- Lowercase all words\n",
    "- Remove punctuation marks\n",
    "- Remove rare words\n",
    "- Remove stopwords\n",
    "\n",
    "Use 300 as the dimension of the word vectors. Try different context sizes."
   ]
  },
  {
   "cell_type": "code",
   "execution_count": 1,
   "metadata": {
    "colab": {},
    "colab_type": "code",
    "id": "mTwHlaTEzpES"
   },
   "outputs": [],
   "source": [
    "import pandas as pd\n",
    "import numpy as np\n",
    "\n",
    "from bs4 import BeautifulSoup  \n",
    "import re\n",
    "import nltk"
   ]
  },
  {
   "cell_type": "code",
   "execution_count": 2,
   "metadata": {},
   "outputs": [
    {
     "name": "stdout",
     "output_type": "stream",
     "text": [
      "Read 2173422 labeled data reviews\n"
     ]
    },
    {
     "data": {
      "text/html": [
       "<div>\n",
       "<style scoped>\n",
       "    .dataframe tbody tr th:only-of-type {\n",
       "        vertical-align: middle;\n",
       "    }\n",
       "\n",
       "    .dataframe tbody tr th {\n",
       "        vertical-align: top;\n",
       "    }\n",
       "\n",
       "    .dataframe thead th {\n",
       "        text-align: right;\n",
       "    }\n",
       "</style>\n",
       "<table border=\"1\" class=\"dataframe\">\n",
       "  <thead>\n",
       "    <tr style=\"text-align: right;\">\n",
       "      <th></th>\n",
       "      <th>index</th>\n",
       "      <th>song</th>\n",
       "      <th>year</th>\n",
       "      <th>artist</th>\n",
       "      <th>genre</th>\n",
       "      <th>lyrics</th>\n",
       "    </tr>\n",
       "  </thead>\n",
       "  <tbody>\n",
       "    <tr>\n",
       "      <th>0</th>\n",
       "      <td>0</td>\n",
       "      <td>ego-remix</td>\n",
       "      <td>2009</td>\n",
       "      <td>beyonce-knowles</td>\n",
       "      <td>Pop</td>\n",
       "      <td>Oh baby, how you doing?\\nYou know I'm gonna cu...</td>\n",
       "    </tr>\n",
       "    <tr>\n",
       "      <th>1</th>\n",
       "      <td>1</td>\n",
       "      <td>then-tell-me</td>\n",
       "      <td>2009</td>\n",
       "      <td>beyonce-knowles</td>\n",
       "      <td>Pop</td>\n",
       "      <td>playin' everything so easy,\\nit's like you see...</td>\n",
       "    </tr>\n",
       "    <tr>\n",
       "      <th>2</th>\n",
       "      <td>2</td>\n",
       "      <td>honesty</td>\n",
       "      <td>2009</td>\n",
       "      <td>beyonce-knowles</td>\n",
       "      <td>Pop</td>\n",
       "      <td>If you search\\nFor tenderness\\nIt isn't hard t...</td>\n",
       "    </tr>\n",
       "    <tr>\n",
       "      <th>3</th>\n",
       "      <td>3</td>\n",
       "      <td>you-are-my-rock</td>\n",
       "      <td>2009</td>\n",
       "      <td>beyonce-knowles</td>\n",
       "      <td>Pop</td>\n",
       "      <td>Oh oh oh I, oh oh oh I\\n[Verse 1:]\\nIf I wrote...</td>\n",
       "    </tr>\n",
       "    <tr>\n",
       "      <th>4</th>\n",
       "      <td>4</td>\n",
       "      <td>black-culture</td>\n",
       "      <td>2009</td>\n",
       "      <td>beyonce-knowles</td>\n",
       "      <td>Pop</td>\n",
       "      <td>Party the people, the people the party it's po...</td>\n",
       "    </tr>\n",
       "  </tbody>\n",
       "</table>\n",
       "</div>"
      ],
      "text/plain": [
       "   index             song  year           artist genre  \\\n",
       "0      0        ego-remix  2009  beyonce-knowles   Pop   \n",
       "1      1     then-tell-me  2009  beyonce-knowles   Pop   \n",
       "2      2          honesty  2009  beyonce-knowles   Pop   \n",
       "3      3  you-are-my-rock  2009  beyonce-knowles   Pop   \n",
       "4      4    black-culture  2009  beyonce-knowles   Pop   \n",
       "\n",
       "                                              lyrics  \n",
       "0  Oh baby, how you doing?\\nYou know I'm gonna cu...  \n",
       "1  playin' everything so easy,\\nit's like you see...  \n",
       "2  If you search\\nFor tenderness\\nIt isn't hard t...  \n",
       "3  Oh oh oh I, oh oh oh I\\n[Verse 1:]\\nIf I wrote...  \n",
       "4  Party the people, the people the party it's po...  "
      ]
     },
     "execution_count": 2,
     "metadata": {},
     "output_type": "execute_result"
    }
   ],
   "source": [
    "# Read data from files \n",
    "data = pd.read_csv( \"lyrics.csv\", header=0, delimiter=\",\" )\n",
    "\n",
    "# Verify the number of row that were read (2,173,422 in total)\n",
    "print (\"Read %d labeled data reviews\" % (data.size))\n",
    "data.head()"
   ]
  },
  {
   "cell_type": "code",
   "execution_count": 3,
   "metadata": {},
   "outputs": [
    {
     "data": {
      "text/plain": [
       "array(['Pop', 'Hip-Hop', 'Not Available', 'Other', 'Rock', 'Metal',\n",
       "       'Country', 'Jazz', 'Electronic', 'Folk', 'R&B', 'Indie'],\n",
       "      dtype=object)"
      ]
     },
     "execution_count": 3,
     "metadata": {},
     "output_type": "execute_result"
    }
   ],
   "source": [
    "data.genre.unique()"
   ]
  },
  {
   "cell_type": "code",
   "execution_count": 4,
   "metadata": {
    "scrolled": true
   },
   "outputs": [
    {
     "data": {
      "text/plain": [
       "362237"
      ]
     },
     "execution_count": 4,
     "metadata": {},
     "output_type": "execute_result"
    }
   ],
   "source": [
    "len(data[\"lyrics\"])\n"
   ]
  },
  {
   "cell_type": "code",
   "execution_count": 3,
   "metadata": {},
   "outputs": [],
   "source": [
    "# Load the punkt tokenizer\n",
    "tokenizer = nltk.data.load('tokenizers/punkt/english.pickle')\n",
    "\n",
    "from nltk.corpus import stopwords\n",
    "def lyrics_to_wordlist( lyrics, remove_stopwords=False ):\n",
    "    # Function to convert a document to a sequence of words,\n",
    "    # optionally removing stop words.  Returns a list of words.\n",
    "    #\n",
    "    # 1. Remove HTML\n",
    "    lyrics_text = BeautifulSoup(lyrics).get_text()\n",
    "    #  \n",
    "    # 2. Remove non-letters\n",
    "    lyrics_text = re.sub(\"[^a-zA-Z]\",\" \", lyrics_text)\n",
    "    #\n",
    "    # 3. Convert words to lower case and split them\n",
    "    words = lyrics_text.lower().split()\n",
    "    #\n",
    "    # 4. Optionally remove stop words (false by default)\n",
    "    if remove_stopwords:\n",
    "        stops = set(stopwords.words(\"english\"))\n",
    "        words = [w for w in words if not w in stops]\n",
    "    #\n",
    "    # 5. Return a list of words\n",
    "    return(words)\n",
    "\n",
    "# Define a function to split a review into parsed sentences\n",
    "def lyrics_to_sentences( lyrics, tokenizer, remove_stopwords=False ):\n",
    "    # Function to split a review into parsed sentences. Returns a \n",
    "    # list of sentences, where each sentence is a list of words\n",
    "    #\n",
    "    # 1. Use the NLTK tokenizer to split the paragraph into sentences\n",
    "    if(len(lyrics)== 0):\n",
    "        return []\n",
    "    raw_sentences = tokenizer.tokenize(lyrics.strip())\n",
    "    #\n",
    "    # 2. Loop over each sentence\n",
    "    sentences = []\n",
    "    for raw_sentence in raw_sentences:\n",
    "        # If a sentence is empty, skip it\n",
    "        if len(raw_sentence) > 0:\n",
    "            # Otherwise, call review_to_wordlist to get a list of words\n",
    "            sentences.append( lyrics_to_wordlist( raw_sentence, \\\n",
    "              remove_stopwords ))\n",
    "    #\n",
    "    # Return the list of sentences (each sentence is a list of words,\n",
    "    # so this returns a list of lists\n",
    "    return sentences"
   ]
  },
  {
   "cell_type": "code",
   "execution_count": 6,
   "metadata": {
    "scrolled": true
   },
   "outputs": [
    {
     "name": "stdout",
     "output_type": "stream",
     "text": [
      "Parsing sentences from training set\n"
     ]
    },
    {
     "name": "stderr",
     "output_type": "stream",
     "text": [
      "/home/g/.local/lib/python3.6/site-packages/bs4/__init__.py:314: UserWarning: \"b'.'\" looks like a filename, not markup. You should probably open this file and pass the filehandle into Beautiful Soup.\n",
      "  ' Beautiful Soup.' % markup)\n"
     ]
    },
    {
     "name": "stdout",
     "output_type": "stream",
     "text": [
      "5000/362237\n"
     ]
    },
    {
     "name": "stderr",
     "output_type": "stream",
     "text": [
      "/home/g/.local/lib/python3.6/site-packages/bs4/__init__.py:314: UserWarning: \"b'..'\" looks like a filename, not markup. You should probably open this file and pass the filehandle into Beautiful Soup.\n",
      "  ' Beautiful Soup.' % markup)\n"
     ]
    },
    {
     "name": "stdout",
     "output_type": "stream",
     "text": [
      "25000/362237\n",
      "40000/362237\n",
      "45000/362237\n",
      "50000/362237\n"
     ]
    },
    {
     "name": "stderr",
     "output_type": "stream",
     "text": [
      "/home/g/.local/lib/python3.6/site-packages/bs4/__init__.py:314: UserWarning: \"b'/'\" looks like a filename, not markup. You should probably open this file and pass the filehandle into Beautiful Soup.\n",
      "  ' Beautiful Soup.' % markup)\n"
     ]
    },
    {
     "name": "stdout",
     "output_type": "stream",
     "text": [
      "75000/362237\n",
      "80000/362237\n",
      "85000/362237\n",
      "95000/362237\n",
      "100000/362237\n",
      "105000/362237\n",
      "110000/362237\n",
      "115000/362237\n",
      "125000/362237\n",
      "130000/362237\n",
      "135000/362237\n",
      "140000/362237\n",
      "145000/362237\n"
     ]
    },
    {
     "name": "stderr",
     "output_type": "stream",
     "text": [
      "/home/g/.local/lib/python3.6/site-packages/bs4/__init__.py:314: UserWarning: \"b'//'\" looks like a filename, not markup. You should probably open this file and pass the filehandle into Beautiful Soup.\n",
      "  ' Beautiful Soup.' % markup)\n"
     ]
    },
    {
     "name": "stdout",
     "output_type": "stream",
     "text": [
      "160000/362237\n",
      "165000/362237\n",
      "170000/362237\n",
      "175000/362237\n",
      "180000/362237\n",
      "190000/362237\n",
      "195000/362237\n",
      "200000/362237\n",
      "205000/362237\n",
      "215000/362237\n",
      "220000/362237\n",
      "225000/362237\n",
      "230000/362237\n",
      "235000/362237\n",
      "240000/362237\n",
      "245000/362237\n",
      "250000/362237\n",
      "255000/362237\n",
      "260000/362237\n",
      "265000/362237\n",
      "270000/362237\n",
      "275000/362237\n",
      "280000/362237\n",
      "285000/362237\n",
      "290000/362237\n",
      "295000/362237\n"
     ]
    },
    {
     "name": "stderr",
     "output_type": "stream",
     "text": [
      "/home/g/.local/lib/python3.6/site-packages/bs4/__init__.py:314: UserWarning: \"b'/.'\" looks like a filename, not markup. You should probably open this file and pass the filehandle into Beautiful Soup.\n",
      "  ' Beautiful Soup.' % markup)\n"
     ]
    },
    {
     "name": "stdout",
     "output_type": "stream",
     "text": [
      "300000/362237\n",
      "305000/362237\n",
      "310000/362237\n",
      "315000/362237\n",
      "320000/362237\n",
      "325000/362237\n",
      "330000/362237\n",
      "340000/362237\n",
      "345000/362237\n",
      "350000/362237\n",
      "355000/362237\n",
      "360000/362237\n"
     ]
    }
   ],
   "source": [
    "sentences = []  # Initialize an empty list of sentences\n",
    "\n",
    "print (\"Parsing sentences from training set\")\n",
    "counter = 0\n",
    "total_number_of_rows = len(data[\"lyrics\"])\n",
    "for lyrics in data[\"lyrics\"]:\n",
    "    counter +=1\n",
    "    if(lyrics == lyrics):  \n",
    "        if counter % 5000 == 0:\n",
    "            print(f'{counter}/{total_number_of_rows}')\n",
    "        sentences += lyrics_to_sentences(lyrics, tokenizer)"
   ]
  },
  {
   "cell_type": "code",
   "execution_count": 7,
   "metadata": {},
   "outputs": [],
   "source": [
    "import pickle\n",
    "# Step 2\n",
    "with open('sentences.b', 'wb') as config_dictionary_file:\n",
    "  # Step 3\n",
    "  pickle.dump(sentences, config_dictionary_file)"
   ]
  },
  {
   "cell_type": "code",
   "execution_count": 9,
   "metadata": {},
   "outputs": [
    {
     "name": "stdout",
     "output_type": "stream",
     "text": [
      "Training model...\n"
     ]
    }
   ],
   "source": [
    "# Set values for various parameters\n",
    "num_features = 3000    # Word vector dimensionality                      \n",
    "min_word_count = 30   # Minimum word count                        \n",
    "num_workers = 4       # Number of threads to run in parallel\n",
    "context = 10          # Context window size                                                                                    \n",
    "downsampling = 1e-3   # Downsample setting for frequent words\n",
    "\n",
    "# Initialize and train the model (this will take some time)\n",
    "from gensim.models import word2vec\n",
    "print (\"Training model...\")\n",
    "model = word2vec.Word2Vec(sentences, workers=num_workers, \\\n",
    "            size=num_features, min_count = min_word_count, \\\n",
    "            window = context, sample = downsampling)\n",
    "\n",
    "# If you don't plan to train the model any further, calling \n",
    "# init_sims will make the model much more memory-efficient.\n",
    "model.init_sims(replace=True)\n",
    "\n",
    "# It can be helpful to create a meaningful model name and \n",
    "# save the model for later use. You can load it later using Word2Vec.load()\n",
    "model_name = \"300features_40minwords_10context\"\n",
    "model.save(model_name)"
   ]
  },
  {
   "cell_type": "code",
   "execution_count": 6,
   "metadata": {},
   "outputs": [],
   "source": [
    "from gensim.models import word2vec\n",
    "model = word2vec.Word2Vec.load(\"300features_40minwords_10context\")"
   ]
  },
  {
   "cell_type": "markdown",
   "metadata": {
    "colab_type": "text",
    "id": "Ts2zHcAXzpEV"
   },
   "source": [
    "### Review most similar words\n",
    "Get initial evaluation of the word vectors by analyzing the most similar words for a few interesting words in the text. \n",
    "\n",
    "Choose words yourself, and find the most similar words to them."
   ]
  },
  {
   "cell_type": "code",
   "execution_count": 6,
   "metadata": {
    "colab": {},
    "colab_type": "code",
    "id": "zRbyxePnzpEV"
   },
   "outputs": [
    {
     "data": {
      "text/plain": [
       "[('nashville', 0.4711722433567047),\n",
       " ('texas', 0.42542052268981934),\n",
       " ('hillbilly', 0.425087571144104),\n",
       " ('farm', 0.4209102392196655),\n",
       " ('southern', 0.41700053215026855),\n",
       " ('tennessee', 0.4128624498844147),\n",
       " ('homegrown', 0.40444791316986084),\n",
       " ('western', 0.4026687443256378),\n",
       " ('illinois', 0.3990497291088104),\n",
       " ('carolina', 0.3977320194244385)]"
      ]
     },
     "execution_count": 6,
     "metadata": {},
     "output_type": "execute_result"
    }
   ],
   "source": [
    "model.wv.most_similar(\"country\")"
   ]
  },
  {
   "cell_type": "code",
   "execution_count": 13,
   "metadata": {
    "scrolled": true
   },
   "outputs": [
    {
     "data": {
      "text/plain": [
       "[('alone', 0.44149452447891235),\n",
       " ('back', 0.39174431562423706),\n",
       " ('where', 0.36443257331848145),\n",
       " ('homesick', 0.3211636543273926),\n",
       " ('payphone', 0.3109445571899414),\n",
       " ('roam', 0.3012731075286865),\n",
       " ('safely', 0.29832303524017334),\n",
       " ('phone', 0.2923828363418579),\n",
       " ('lonely', 0.28657495975494385),\n",
       " ('holidays', 0.2828644812107086)]"
      ]
     },
     "execution_count": 13,
     "metadata": {},
     "output_type": "execute_result"
    }
   ],
   "source": [
    "model.wv.most_similar(\"home\")"
   ]
  },
  {
   "cell_type": "code",
   "execution_count": 14,
   "metadata": {},
   "outputs": [
    {
     "data": {
      "text/plain": [
       "[('kings', 0.529973030090332),\n",
       " ('queen', 0.4928017258644104),\n",
       " ('crowned', 0.4898328483104706),\n",
       " ('ruler', 0.46860259771347046),\n",
       " ('rodney', 0.4455219805240631),\n",
       " ('luther', 0.43770158290863037),\n",
       " ('crowning', 0.42637744545936584),\n",
       " ('hong', 0.4263729453086853),\n",
       " ('throne', 0.4238130450248718),\n",
       " ('simba', 0.411740243434906)]"
      ]
     },
     "execution_count": 14,
     "metadata": {},
     "output_type": "execute_result"
    }
   ],
   "source": [
    "model.wv.most_similar(\"king\")"
   ]
  },
  {
   "cell_type": "markdown",
   "metadata": {
    "colab_type": "text",
    "id": "A3KgAHY_zpEX"
   },
   "source": [
    "### Word Vectors Algebra\n",
    "We've seen in class examples of algebraic games on the word vectors (e.g. man - woman + king = queen ). \n",
    "\n",
    "Try a few vector algebra terms, and evaluate how well they work. Try to use the Cosine distance and compare it to the Euclidean distance."
   ]
  },
  {
   "cell_type": "code",
   "execution_count": 17,
   "metadata": {
    "colab": {},
    "colab_type": "code",
    "id": "zqsdcAefzpEY",
    "scrolled": false
   },
   "outputs": [
    {
     "name": "stdout",
     "output_type": "stream",
     "text": [
      "[ 0.04580969 -0.07200838 -0.00492593 ... -0.03154615  0.01647244\n",
      " -0.00359621]\n"
     ]
    },
    {
     "data": {
      "text/plain": [
       "[('king', 0.6875251531600952),\n",
       " ('queen', 0.46576985716819763),\n",
       " ('woman', 0.42273080348968506),\n",
       " ('kings', 0.3725214898586273),\n",
       " ('crowned', 0.3481811285018921),\n",
       " ('princess', 0.3264182209968567),\n",
       " ('crown', 0.320339560508728),\n",
       " ('goddess', 0.313880980014801),\n",
       " ('palace', 0.30315709114074707),\n",
       " ('hong', 0.2977418303489685)]"
      ]
     },
     "execution_count": 17,
     "metadata": {},
     "output_type": "execute_result"
    }
   ],
   "source": [
    "vector = model.wv['king'] - model.wv['man'] + model.wv['woman']\n",
    "print(vector)\n",
    "model.wv.similar_by_vector(vector, topn=10, restrict_vocab=None)"
   ]
  },
  {
   "cell_type": "code",
   "execution_count": 20,
   "metadata": {},
   "outputs": [
    {
     "name": "stdout",
     "output_type": "stream",
     "text": [
      "Cosine distance =  0.030345669\n",
      "Euclidean distance =  1.3925906\n"
     ]
    }
   ],
   "source": [
    "cosine_distance = model.wv.similarity(\"car\", \"plan\")\n",
    "print(\"Cosine distance = \", cosine_distance)\n",
    "\n",
    "euclidean_distance = np.linalg.norm(model.wv[\"car\"] - model.wv[\"plan\"])\n",
    "print(\"Euclidean distance = \", euclidean_distance)"
   ]
  },
  {
   "cell_type": "markdown",
   "metadata": {
    "colab_type": "text",
    "id": "w77_5NJRzpEb"
   },
   "source": [
    "## Sentiment Analysis\n",
    "Estimate sentiment of words using word vectors.  \n",
    "In this section, we'll use the SemEval-2015 English Twitter Sentiment Lexicon.  \n",
    "The lexicon was used as an official test set in the SemEval-2015 shared Task #10: Subtask E, and contains a polarity score for words in range -1 (negative) to 1 (positive) - http://saifmohammad.com/WebPages/SCL.html#OPP"
   ]
  },
  {
   "cell_type": "markdown",
   "metadata": {
    "colab_type": "text",
    "id": "vgsegRh6zpEc"
   },
   "source": [
    "Build a classifier for the sentiment of a word given its word vector. Split the data to a train and test sets, and report the model performance on both sets."
   ]
  },
  {
   "cell_type": "code",
   "execution_count": 4,
   "metadata": {
    "colab": {},
    "colab_type": "code",
    "id": "kMvIKiB9zpEc"
   },
   "outputs": [
    {
     "name": "stdout",
     "output_type": "stream",
     "text": [
      "Read 4712 labeled data reviews\n"
     ]
    }
   ],
   "source": [
    "scl_opp = pd.read_csv( \"SCL-OPP.txt\",header=None, delimiter=\"\\t\")\n",
    "\n",
    "# Verify the number of row that were read (2,173,422 in total)\n",
    "print (\"Read %d labeled data reviews\" % (scl_opp.size))\n",
    "scl_opp.head()\n",
    "\n",
    "tokens_dic = {}\n",
    "\n",
    "for i in range(scl_opp.shape[0]):\n",
    "    tokens_dic[scl_opp.iloc[i][0]] = scl_opp.iloc[i][1]\n",
    "\n"
   ]
  },
  {
   "cell_type": "code",
   "execution_count": 7,
   "metadata": {},
   "outputs": [
    {
     "data": {
      "text/html": [
       "<div>\n",
       "<style scoped>\n",
       "    .dataframe tbody tr th:only-of-type {\n",
       "        vertical-align: middle;\n",
       "    }\n",
       "\n",
       "    .dataframe tbody tr th {\n",
       "        vertical-align: top;\n",
       "    }\n",
       "\n",
       "    .dataframe thead th {\n",
       "        text-align: right;\n",
       "    }\n",
       "</style>\n",
       "<table border=\"1\" class=\"dataframe\">\n",
       "  <thead>\n",
       "    <tr style=\"text-align: right;\">\n",
       "      <th></th>\n",
       "      <th>word</th>\n",
       "      <th>sentiment</th>\n",
       "    </tr>\n",
       "  </thead>\n",
       "  <tbody>\n",
       "    <tr>\n",
       "      <th>0</th>\n",
       "      <td>amazing</td>\n",
       "      <td>1.000</td>\n",
       "    </tr>\n",
       "    <tr>\n",
       "      <th>1</th>\n",
       "      <td>love</td>\n",
       "      <td>0.969</td>\n",
       "    </tr>\n",
       "    <tr>\n",
       "      <th>2</th>\n",
       "      <td>smiling</td>\n",
       "      <td>0.953</td>\n",
       "    </tr>\n",
       "    <tr>\n",
       "      <th>3</th>\n",
       "      <td>wonderful</td>\n",
       "      <td>0.953</td>\n",
       "    </tr>\n",
       "    <tr>\n",
       "      <th>4</th>\n",
       "      <td>happiness</td>\n",
       "      <td>0.938</td>\n",
       "    </tr>\n",
       "  </tbody>\n",
       "</table>\n",
       "</div>"
      ],
      "text/plain": [
       "        word  sentiment\n",
       "0    amazing      1.000\n",
       "1       love      0.969\n",
       "2    smiling      0.953\n",
       "3  wonderful      0.953\n",
       "4  happiness      0.938"
      ]
     },
     "execution_count": 7,
     "metadata": {},
     "output_type": "execute_result"
    }
   ],
   "source": [
    "#All the words in our lyrics corpus\n",
    "vocab =  list(model.wv.vocab.keys())\n",
    "#All the words shared between the sentiment lexicon and our lyrics corpus.\n",
    "lexicon_words = []\n",
    "for key,value in tokens_dic.items():\n",
    "    if key in vocab:\n",
    "        lexicon_words.append([key,value])\n",
    "lexicon = pd.DataFrame(lexicon_words, columns=[\"word\",\"sentiment\"])\n",
    "lexicon.head()"
   ]
  },
  {
   "cell_type": "markdown",
   "metadata": {
    "colab_type": "text",
    "id": "FwTiyFW8zpEf"
   },
   "source": [
    "Use your trained model from the previous question to predict the sentiment score of words in the lyrics corpus that are not part of the original sentiment dataset. Review the words with the highest positive and negative sentiment. Do the results make sense?"
   ]
  },
  {
   "cell_type": "code",
   "execution_count": 8,
   "metadata": {},
   "outputs": [
    {
     "name": "stderr",
     "output_type": "stream",
     "text": [
      "/home/g/.local/lib/python3.6/site-packages/ipykernel_launcher.py:7: DeprecationWarning: Call to deprecated `__getitem__` (Method will be removed in 4.0.0, use self.wv.__getitem__() instead).\n",
      "  import sys\n"
     ]
    },
    {
     "name": "stdout",
     "output_type": "stream",
     "text": [
      "Train Score: 3.548735396530034e-12, Test Score 0.33717765845892406\n"
     ]
    }
   ],
   "source": [
    "from sklearn.model_selection import train_test_split\n",
    "from sklearn.metrics import mean_squared_error as mse\n",
    "from sklearn.linear_model import Lasso\n",
    "from sklearn.linear_model import LinearRegression\n",
    "\n",
    "\n",
    "w2vector = model[lexicon.word]\n",
    "X_train, X_test, y_train, y_test = train_test_split(w2vector,lexicon.sentiment, test_size = 0.2, random_state=42)\n",
    "lr = LinearRegression()\n",
    "lr.fit(X_train,y_train)\n",
    "print(\"Train Score: {}, Test Score {}\".format(mse(lr.predict(X_train),y_train),mse(lr.predict(X_test),y_test)))"
   ]
  },
  {
   "cell_type": "code",
   "execution_count": 78,
   "metadata": {},
   "outputs": [
    {
     "name": "stderr",
     "output_type": "stream",
     "text": [
      "/home/g/.local/lib/python3.6/site-packages/ipykernel_launcher.py:7: DeprecationWarning: Call to deprecated `__getitem__` (Method will be removed in 4.0.0, use self.wv.__getitem__() instead).\n",
      "  import sys\n",
      "/home/g/.local/lib/python3.6/site-packages/ipykernel_launcher.py:11: UserWarning: Pandas doesn't allow columns to be created via a new attribute name - see https://pandas.pydata.org/pandas-docs/stable/indexing.html#attribute-access\n",
      "  # This is added back by InteractiveShellApp.init_path()\n"
     ]
    }
   ],
   "source": [
    "#the next part will be to use our lr model to predict sentiment score for any word embeddings\n",
    "not_in_lexicon = []\n",
    "for word in vocab:\n",
    "    if word not in lexicon['word'].values:\n",
    "        not_in_lexicon.append(word)\n",
    "\n",
    "values = lr.predict(model[not_in_lexicon])\n",
    "\n",
    "sents_df = pd.DataFrame((not_in_lexicon, values)).T\n",
    "sents_df.columns = [\"word\",\"sentiment\"]\n",
    "sents_df.Sentiment = sents_df.sentiment / max(np.abs(sents_df.sentiment))"
   ]
  },
  {
   "cell_type": "code",
   "execution_count": 80,
   "metadata": {},
   "outputs": [
    {
     "data": {
      "text/html": [
       "<div>\n",
       "<style scoped>\n",
       "    .dataframe tbody tr th:only-of-type {\n",
       "        vertical-align: middle;\n",
       "    }\n",
       "\n",
       "    .dataframe tbody tr th {\n",
       "        vertical-align: top;\n",
       "    }\n",
       "\n",
       "    .dataframe thead th {\n",
       "        text-align: right;\n",
       "    }\n",
       "</style>\n",
       "<table border=\"1\" class=\"dataframe\">\n",
       "  <thead>\n",
       "    <tr style=\"text-align: right;\">\n",
       "      <th></th>\n",
       "      <th>word</th>\n",
       "      <th>sentiment</th>\n",
       "    </tr>\n",
       "  </thead>\n",
       "  <tbody>\n",
       "    <tr>\n",
       "      <th>16338</th>\n",
       "      <td>dismayed</td>\n",
       "      <td>-2.15712</td>\n",
       "    </tr>\n",
       "    <tr>\n",
       "      <th>2998</th>\n",
       "      <td>stalking</td>\n",
       "      <td>-2.09456</td>\n",
       "    </tr>\n",
       "    <tr>\n",
       "      <th>4326</th>\n",
       "      <td>bastard</td>\n",
       "      <td>-2.05636</td>\n",
       "    </tr>\n",
       "    <tr>\n",
       "      <th>22901</th>\n",
       "      <td>brung</td>\n",
       "      <td>-2.0045</td>\n",
       "    </tr>\n",
       "    <tr>\n",
       "      <th>4129</th>\n",
       "      <td>snitch</td>\n",
       "      <td>-1.98548</td>\n",
       "    </tr>\n",
       "    <tr>\n",
       "      <th>...</th>\n",
       "      <td>...</td>\n",
       "      <td>...</td>\n",
       "    </tr>\n",
       "    <tr>\n",
       "      <th>30275</th>\n",
       "      <td>ohoho</td>\n",
       "      <td>2.05039</td>\n",
       "    </tr>\n",
       "    <tr>\n",
       "      <th>30367</th>\n",
       "      <td>schlau</td>\n",
       "      <td>2.05304</td>\n",
       "    </tr>\n",
       "    <tr>\n",
       "      <th>629</th>\n",
       "      <td>enjoy</td>\n",
       "      <td>2.05487</td>\n",
       "    </tr>\n",
       "    <tr>\n",
       "      <th>5018</th>\n",
       "      <td>trim</td>\n",
       "      <td>2.19221</td>\n",
       "    </tr>\n",
       "    <tr>\n",
       "      <th>33410</th>\n",
       "      <td>rikki</td>\n",
       "      <td>2.29582</td>\n",
       "    </tr>\n",
       "  </tbody>\n",
       "</table>\n",
       "<p>35013 rows × 2 columns</p>\n",
       "</div>"
      ],
      "text/plain": [
       "           word sentiment\n",
       "16338  dismayed  -2.15712\n",
       "2998   stalking  -2.09456\n",
       "4326    bastard  -2.05636\n",
       "22901     brung   -2.0045\n",
       "4129     snitch  -1.98548\n",
       "...         ...       ...\n",
       "30275     ohoho   2.05039\n",
       "30367    schlau   2.05304\n",
       "629       enjoy   2.05487\n",
       "5018       trim   2.19221\n",
       "33410     rikki   2.29582\n",
       "\n",
       "[35013 rows x 2 columns]"
      ]
     },
     "execution_count": 80,
     "metadata": {},
     "output_type": "execute_result"
    }
   ],
   "source": [
    "sents_df.sort_values(by=\"sentiment\")"
   ]
  },
  {
   "cell_type": "markdown",
   "metadata": {
    "colab_type": "text",
    "id": "EHl_oWv3zpEh"
   },
   "source": [
    "### Visualize Word Vectors\n",
    "In this section, you'll plot words on a 2D grid based on their inner similarity. We'll use the tSNE transformation to reduce dimensions from 300 to 2. You can get sample code from https://www.kaggle.com/pierremegret/gensim-word2vec-tutorial or other tutorials online.\n",
    "\n",
    "Perform the following:\n",
    "- Keep only the 3,000 most frequent words (after removing stopwords)\n",
    "- For this list, compute for each word its relative abundance in each of the genres\n",
    "- Compute the ratio between the proportion of each word in each genre and the proportion of the word in the entire corpus (the background distribution)\n",
    "- Pick the top 50 words for each genre. These words give good indication for that genre. Join the words from all genres into a single list of top significant words. \n",
    "- Compute tSNE transformation to 2D for all words, based on their word vectors\n",
    "- Plot the list of the top significant words in 2D. Next to each word output its text. The color of each point should indicate the genre for which it is most significant.\n",
    "\n",
    "You might prefer to use a different number of points or a slightly different methodology for improved results.  \n",
    "Analyze the results."
   ]
  },
  {
   "cell_type": "code",
   "execution_count": 10,
   "metadata": {
    "scrolled": false
   },
   "outputs": [
    {
     "name": "stdout",
     "output_type": "stream",
     "text": [
      "Pop\n",
      "Hip-Hop\n",
      "Not Available\n",
      "Other\n",
      "Rock\n",
      "Metal\n",
      "Country\n",
      "Jazz\n",
      "Electronic\n",
      "Folk\n",
      "R&B\n",
      "Indie\n"
     ]
    },
    {
     "ename": "NameError",
     "evalue": "name 'ganres_text' is not defined",
     "output_type": "error",
     "traceback": [
      "\u001b[0;31m---------------------------------------------------------------------------\u001b[0m",
      "\u001b[0;31mNameError\u001b[0m                                 Traceback (most recent call last)",
      "\u001b[0;32m<ipython-input-10-628bc9966e3b>\u001b[0m in \u001b[0;36m<module>\u001b[0;34m\u001b[0m\n\u001b[1;32m      8\u001b[0m     \u001b[0mgenres\u001b[0m\u001b[0;34m[\u001b[0m\u001b[0mgenre\u001b[0m\u001b[0;34m]\u001b[0m \u001b[0;34m=\u001b[0m \u001b[0;34m(\u001b[0m\u001b[0mlyrics_to_wordlist\u001b[0m\u001b[0;34m(\u001b[0m\u001b[0;34m' '\u001b[0m\u001b[0;34m.\u001b[0m\u001b[0mjoin\u001b[0m\u001b[0;34m(\u001b[0m\u001b[0mmap\u001b[0m\u001b[0;34m(\u001b[0m\u001b[0mstr\u001b[0m\u001b[0;34m,\u001b[0m \u001b[0mby_genres\u001b[0m\u001b[0;34m[\u001b[0m\u001b[0mgenre\u001b[0m\u001b[0;34m]\u001b[0m\u001b[0;34m)\u001b[0m\u001b[0;34m)\u001b[0m\u001b[0;34m,\u001b[0m \u001b[0mremove_stopwords\u001b[0m\u001b[0;34m=\u001b[0m\u001b[0;32mTrue\u001b[0m\u001b[0;34m)\u001b[0m\u001b[0;34m)\u001b[0m\u001b[0;34m\u001b[0m\u001b[0;34m\u001b[0m\u001b[0m\n\u001b[1;32m      9\u001b[0m     \u001b[0mgenres_text\u001b[0m\u001b[0;34m[\u001b[0m\u001b[0mgenre\u001b[0m\u001b[0;34m]\u001b[0m\u001b[0;34m=\u001b[0m \u001b[0;34m' '\u001b[0m\u001b[0;34m.\u001b[0m\u001b[0mjoin\u001b[0m\u001b[0;34m(\u001b[0m\u001b[0mmap\u001b[0m\u001b[0;34m(\u001b[0m\u001b[0mstr\u001b[0m\u001b[0;34m,\u001b[0m \u001b[0mby_genres\u001b[0m\u001b[0;34m[\u001b[0m\u001b[0mgenre\u001b[0m\u001b[0;34m]\u001b[0m\u001b[0;34m)\u001b[0m\u001b[0;34m)\u001b[0m\u001b[0;34m\u001b[0m\u001b[0;34m\u001b[0m\u001b[0m\n\u001b[0;32m---> 10\u001b[0;31m \u001b[0mganres_text\u001b[0m\u001b[0;34m[\u001b[0m\u001b[0;34m'Pop'\u001b[0m\u001b[0;34m]\u001b[0m\u001b[0;34m[\u001b[0m\u001b[0;34m:\u001b[0m\u001b[0;36m300\u001b[0m\u001b[0;34m]\u001b[0m\u001b[0;34m\u001b[0m\u001b[0;34m\u001b[0m\u001b[0m\n\u001b[0m",
      "\u001b[0;31mNameError\u001b[0m: name 'ganres_text' is not defined"
     ]
    }
   ],
   "source": [
    "genres = {genre:[] for genre in data.genre.unique()}\n",
    "# 'Pop', 'Hip-Hop', 'Not Available', 'Other', 'Rock', 'Metal',\n",
    "#       'Country', 'Jazz', 'Electronic', 'Folk', 'R&B', 'Indie'\n",
    "by_genres = data.groupby(['genre'])[\"lyrics\"].apply(list)\n",
    "genres_text = {}\n",
    "for genre in data.genre.unique():\n",
    "    print(genre)\n",
    "    genres[genre] = (lyrics_to_wordlist(' '.join(map(str, by_genres[genre])), remove_stopwords=True))\n",
    "    genres_text[genre]= ' '.join(map(str, by_genres[genre]))\n"
   ]
  },
  {
   "cell_type": "code",
   "execution_count": 23,
   "metadata": {},
   "outputs": [],
   "source": [
    "from nltk.corpus import stopwords\n",
    "def clean_text(text):\n",
    "    text = BeautifulSoup(text).get_text()\n",
    "    #  \n",
    "    # 2. Remove non-letters\n",
    "    text = re.sub(\"[^a-zA-Z]\",\" \", text)\n",
    "    #\n",
    "    # 3. Convert words to lower case and split them\n",
    "    words = text.lower().split()\n",
    "    #\n",
    "    # 4. remove stop words \n",
    "    stops = set(stopwords.words(\"english\"))\n",
    "    words = [w for w in words if not w in stops]\n",
    "    #\n",
    "    # 5. Return words as one document\n",
    "    return(' '.join(words))"
   ]
  },
  {
   "cell_type": "code",
   "execution_count": 24,
   "metadata": {},
   "outputs": [
    {
     "name": "stdout",
     "output_type": "stream",
     "text": [
      "Pop\n",
      "Hip-Hop\n",
      "Not Available\n",
      "Other\n",
      "Rock\n",
      "Metal\n",
      "Country\n",
      "Jazz\n",
      "Electronic\n",
      "Folk\n",
      "R&B\n",
      "Indie\n"
     ]
    },
    {
     "data": {
      "text/plain": [
       "'oh baby know gonna cut right chase women made like think created special purpose know special feel baby let get lost need call work cause boss real want show feel consider lucky big deal well got key heart gonna need rather open body show secrets know inside need lie big wide strong fit much tough t'"
      ]
     },
     "execution_count": 24,
     "metadata": {},
     "output_type": "execute_result"
    }
   ],
   "source": [
    "for genre in genres_text:\n",
    "    print(genre)\n",
    "    genres_text[genre] = clean_text( genres_text[genre])"
   ]
  },
  {
   "cell_type": "code",
   "execution_count": 26,
   "metadata": {
    "scrolled": true
   },
   "outputs": [],
   "source": [
    "from collections import Counter\n",
    "# Add to the dictionary if it doesn't exist. If it does, increase the count.\n",
    "words_counter = Counter()\n",
    "genres_words_counter = {}\n",
    "word_per_ganer = {}\n",
    "for genre in genres:\n",
    "    word_per_ganer[genre] = len(genres[genre])\n",
    "    words_counter += Counter(genres[genre])\n",
    "    genres_words_counter[genre] = Counter(genres[genre])\n"
   ]
  },
  {
   "cell_type": "code",
   "execution_count": 27,
   "metadata": {
    "scrolled": true
   },
   "outputs": [
    {
     "name": "stdout",
     "output_type": "stream",
     "text": [
      "Pop\n",
      "Hip-Hop\n",
      "Not Available\n",
      "Other\n",
      "Rock\n",
      "Metal\n",
      "Country\n",
      "Jazz\n",
      "Electronic\n",
      "Folk\n",
      "R&B\n",
      "Indie\n"
     ]
    }
   ],
   "source": [
    "top_3000 = [ word[0] for word in words_counter.most_common(3000)]\n",
    "corpus = []\n",
    "for genre in genres_text:\n",
    "    print(genre)\n",
    "    corpus.append(genres_text[genre])\n"
   ]
  },
  {
   "cell_type": "code",
   "execution_count": 30,
   "metadata": {},
   "outputs": [],
   "source": [
    "from sklearn.feature_extraction.text import CountVectorizer\n",
    "from sklearn.feature_extraction.text import TfidfTransformer\n",
    "import numpy as np\n",
    "from sklearn.pipeline import Pipeline\n"
   ]
  },
  {
   "cell_type": "code",
   "execution_count": 32,
   "metadata": {},
   "outputs": [],
   "source": [
    "#Calculat tf-idf \n",
    "pipe = Pipeline([('count', CountVectorizer(vocabulary=top_3000)), ('tfid', TfidfTransformer())]).fit(corpus)\n"
   ]
  },
  {
   "cell_type": "code",
   "execution_count": 52,
   "metadata": {},
   "outputs": [],
   "source": [
    "# count matrix\n",
    "count_vector=pipe['count'].transform(corpus)\n",
    " \n",
    "# tf-idf scores\n",
    "tf_idf_vector= pipe['tfid'].transform(count_vector)"
   ]
  },
  {
   "cell_type": "code",
   "execution_count": 119,
   "metadata": {},
   "outputs": [],
   "source": [
    "#Build on dictionary with all genres and top 3000 words\n",
    "feature_names = pipe['count'].get_feature_names()\n",
    "genre_tf_idf={}\n",
    "genre_index = 0\n",
    "for genre in genres:\n",
    "    genre_tf_idf[genre]= dict(zip(feature_names, np.array( tf_idf_vector[genre_index].todense())[0]))\n",
    "    genre_index +=1 \n",
    "\n"
   ]
  },
  {
   "cell_type": "code",
   "execution_count": 129,
   "metadata": {},
   "outputs": [
    {
     "data": {
      "text/plain": [
       "32068883"
      ]
     },
     "execution_count": 129,
     "metadata": {},
     "output_type": "execute_result"
    }
   ],
   "source": []
  },
  {
   "cell_type": "code",
   "execution_count": 132,
   "metadata": {},
   "outputs": [],
   "source": [
    "total_number_of_words = sum(words_counter.values())\n",
    "top_3000_ratio_between_proportion_word_genre = {}\n",
    "top_3000_relative_to_all_words = {}\n",
    "number_of_genres = len(genres)\n",
    "\n",
    "#compute for each word its relative abundance in each of the genres\n",
    "for gener in genres:\n",
    "    top_3000_ratio_between_proportion_word_genre[gener] = {}\n",
    "    for word_in_top_3000 in top_3000:\n",
    "        #compute for each word its relative abundance in each of the genres\n",
    "        top_3000_ratio_between_proportion_word_genre[gener][word_in_top_3000] =  genres_words_counter[genre][word_in_top_3000] / word_per_ganer[genre]\n",
    " \n",
    "\n",
    "\n",
    "#Compute the ratio between the proportion of each word in each genre \n",
    "#and the proportion of the word in the entire corpus (the background distribution)\n",
    "for word_in_top_3000 in top_3000:\n",
    "    top_3000_relative_to_all_words[word_in_top_3000] =  words_counter[word_in_top_3000] / total_number_of_words\n",
    "\n",
    "\n",
    "\n"
   ]
  },
  {
   "cell_type": "code",
   "execution_count": 216,
   "metadata": {
    "scrolled": false
   },
   "outputs": [],
   "source": [
    "#Pick the top 50 words for each genre. These words give good indication for that genre.\n",
    "top_50_per_genre = {}\n",
    "for genre in genres:\n",
    "    top_50_per_genre[genre]=sorted(genre_tf_idf[genre].items() , reverse=True, key=lambda x: x[1])[:50]\n",
    "\n",
    "top_significant_words = []\n",
    "#Join the words from all genres into a single list of top significant words. \n",
    "for genre in genres:\n",
    "    top_significant_words +=  [ word[0] for word in top_50_per_genre[genre]]\n",
    "    \n",
    "top_significant_words = list(set(top_significant_words))\n",
    "word_vertor = []\n",
    "for words in top_significant_words:\n",
    "    word_vertor.append(model.wv[words])\n",
    "\n",
    "    \n",
    "# Create a colors array for each word (by genre)\n",
    "\n",
    "\n",
    "\n",
    "genre_colors ={\n",
    "\"Pop\":(0.6509803921568628, 0.807843137254902, 0.8901960784313725),\n",
    "\"Hip-Hop\":(0.12156862745098039, 0.47058823529411764, 0.7058823529411765),\n",
    "\"Not Available\":(0.6980392156862745, 0.8745098039215686, 0.5411764705882353),\n",
    "\"Other\":(0.2, 0.6274509803921569, 0.17254901960784313), \n",
    "\"Rock\": (0.984313725490196, 0.6039215686274509, 0.6),\n",
    "\"Metal\":(0.8901960784313725, 0.10196078431372549, 0.10980392156862745),\n",
    "\"Country\":(0.9921568627450981, 0.7490196078431373, 0.43529411764705883),\n",
    "\"Jazz\":(1.0, 0.4980392156862745, 0.0),\n",
    "\"Electronic\": (0.792156862745098, 0.6980392156862745, 0.8392156862745098),\n",
    "\"Folk\": (0.41568627450980394, 0.23921568627450981, 0.6039215686274509),\n",
    "\"R&B\":(1.0, 1.0, 0.6),\n",
    "\"Indie\": (0.6941176470588235, 0.34901960784313724, 0.1568627450980392)\n",
    "}\n",
    "\n",
    "word_colors = []\n",
    "end_gener = []\n",
    "for words in top_significant_words:\n",
    "    max_tf_idf = 0\n",
    "    max_genre = \"\"\n",
    "    color = \"\"\n",
    "    for genre in genres:\n",
    "        if word in genre_tf_idf[genre].keys() and genre_tf_idf[genre][words] > max_tf_idf:\n",
    "            max_tf_idf = genre_tf_idf[genre][words]\n",
    "            max_genre = genre\n",
    "            color = genre_colors[genre]\n",
    "    word_colors.append(color)\n",
    "    end_gener.append(genre)\n",
    "\n"
   ]
  },
  {
   "cell_type": "code",
   "execution_count": null,
   "metadata": {
    "scrolled": false
   },
   "outputs": [],
   "source": [
    "\n",
    "\n"
   ]
  },
  {
   "cell_type": "code",
   "execution_count": 217,
   "metadata": {},
   "outputs": [],
   "source": [
    "import matplotlib.pyplot as plt\n",
    "%matplotlib inline\n",
    " \n",
    "import seaborn as sns\n",
    "sns.set_style(\"darkgrid\")\n",
    "\n",
    "from sklearn.decomposition import PCA\n",
    "from sklearn.manifold import TSNE\n"
   ]
  },
  {
   "cell_type": "code",
   "execution_count": 229,
   "metadata": {
    "scrolled": false
   },
   "outputs": [
    {
     "data": {
      "text/plain": [
       "<matplotlib.legend.Legend at 0x7f35371435c0>"
      ]
     },
     "execution_count": 229,
     "metadata": {},
     "output_type": "execute_result"
    },
    {
     "data": {
      "image/png": "[encoded data removed]",
      "text/plain": [
       "<Figure size 1152x1152 with 1 Axes>"
      ]
     },
     "metadata": {},
     "output_type": "display_data"
    }
   ],
   "source": [
    "\"\"\" Plot in seaborn the results from the t-SNE dimensionality reduction algorithm of the vectors of a query word,\n",
    "its list of most similar words, and a list of words.\n",
    "\"\"\"\n",
    "#Compute tSNE transformation to 2D for all words, based on their word vectors\n",
    "#Plot the list of the top significant words in 2D. Next to each word output its text. The color of each point should indicate the genre for which it is most significant.\n",
    "\n",
    "# Reduces the dimensionality from 3000 to 50 dimensions with PCA\n",
    "reduc = PCA(n_components=21).fit_transform(word_vertor)\n",
    "\n",
    "# Finds t-SNE coordinates for 2 dimensions\n",
    "np.set_printoptions(suppress=True)\n",
    "\n",
    "Y = TSNE(n_components=2, random_state=0, perplexity=15).fit_transform(reduc)\n",
    "\n",
    "# Sets everything up to plot\n",
    "df = pd.DataFrame({'x': [x for x in Y[:, 0]],\n",
    "                   'y': [y for y in Y[:, 1]],\n",
    "                   'words': top_significant_words,\n",
    "                   'color': word_colors,\n",
    "                   'gener':end_gener})\n",
    "\n",
    "\n",
    "fig, _ = plt.subplots()\n",
    "fig.set_size_inches(16, 16)\n",
    "\n",
    "# Basic plot\n",
    "p1 = sns.regplot(data=df,\n",
    "                 x=\"x\",\n",
    "                 y=\"y\",\n",
    "                 fit_reg=False,\n",
    "                 marker=\"o\",\n",
    "                 scatter_kws={'s': 40,\n",
    "                              'facecolors': df['color']\n",
    "                             }\n",
    "                 \n",
    "                ,label=df['gener']\n",
    "                )\n",
    "\n",
    "# Adds annotations one by one with a loop\n",
    "for line in range(0, df.shape[0]):\n",
    "     p1.text(df[\"x\"][line],\n",
    "             df['y'][line],\n",
    "             '  ' + df[\"words\"][line].title(),\n",
    "             horizontalalignment='left',\n",
    "             verticalalignment='bottom', size='medium',\n",
    "             color=df['color'][line],\n",
    "             weight='normal'\n",
    "            ).set_size(15)\n",
    "\n",
    "\n",
    "plt.xlim(Y[:, 0].min()-50, Y[:, 0].max()+50)\n",
    "plt.ylim(Y[:, 1].min()-50, Y[:, 1].max()+50)\n",
    "\n",
    "plt.title('t-SNE visualization for {}'.format(word.title()))\n",
    "\n",
    "plt.legend([\"Pop\",\"Hip-Hop\",\"Not Available\",\"Other\", \"Rock\" ,\"Metal\" ,\"Country\",\"Jazz\" ,\"Electronic\" ,\"Folk\" ,\"R&B\",\"Indie\"])\n",
    "\n",
    "\n"
   ]
  },
  {
   "cell_type": "markdown",
   "metadata": {
    "colab_type": "text",
    "id": "pt4DyJ1YzpEl"
   },
   "source": [
    "## Text Classification\n",
    "In this section, you'll build a text classifier, determining the genre of a song based on its lyrics."
   ]
  },
  {
   "cell_type": "markdown",
   "metadata": {
    "colab_type": "text",
    "id": "FSasg-B6zpEl"
   },
   "source": [
    "### Text classification using Bag-of-Words\n",
    "Build a Naive Bayes classifier based on the bag of Words.  \n",
    "You will need to divide your dataset into a train and test sets."
   ]
  },
  {
   "cell_type": "code",
   "execution_count": 0,
   "metadata": {
    "colab": {},
    "colab_type": "code",
    "id": "t7QvAxpZzpEl"
   },
   "outputs": [],
   "source": []
  },
  {
   "cell_type": "markdown",
   "metadata": {
    "colab_type": "text",
    "id": "xrDoD8yrzpEn"
   },
   "source": [
    "Show the confusion matrix."
   ]
  },
  {
   "cell_type": "code",
   "execution_count": 0,
   "metadata": {
    "colab": {},
    "colab_type": "code",
    "id": "96zWfIa0zpEo"
   },
   "outputs": [],
   "source": []
  },
  {
   "cell_type": "markdown",
   "metadata": {
    "colab_type": "text",
    "id": "slJMMAcEzpEr"
   },
   "source": [
    "Show the classification report - precision, recall, f1 for each class."
   ]
  },
  {
   "cell_type": "code",
   "execution_count": 0,
   "metadata": {
    "colab": {},
    "colab_type": "code",
    "id": "QBa1iP84zpEs"
   },
   "outputs": [],
   "source": []
  },
  {
   "cell_type": "markdown",
   "metadata": {
    "colab_type": "text",
    "id": "Qgl3kUfFzpEw"
   },
   "source": [
    "### Text classification using Word Vectors\n",
    "#### Average word vectors\n",
    "Do the same, using a classifier that averages the word vectors of words in the document."
   ]
  },
  {
   "cell_type": "code",
   "execution_count": 0,
   "metadata": {
    "colab": {},
    "colab_type": "code",
    "id": "iJ43fpl3zpEx"
   },
   "outputs": [],
   "source": []
  },
  {
   "cell_type": "markdown",
   "metadata": {
    "colab_type": "text",
    "id": "t1NynAZazpEz"
   },
   "source": [
    "#### TfIdf Weighting\n",
    "Do the same, using a classifier that averages the word vectors of words in the document, weighting each word by its TfIdf.\n"
   ]
  },
  {
   "cell_type": "code",
   "execution_count": 0,
   "metadata": {
    "colab": {},
    "colab_type": "code",
    "id": "77csqNKwzpEz"
   },
   "outputs": [],
   "source": []
  },
  {
   "cell_type": "markdown",
   "metadata": {
    "colab_type": "text",
    "id": "7MdY18JFzpE1"
   },
   "source": [
    "### Text classification using ConvNet\n",
    "Do the same, using a ConvNet.  \n",
    "The ConvNet should get as input a 2D matrix where each column is an embedding vector of a single word, and words are in order. Use zero padding so that all matrices have a similar length.  \n",
    "Some songs might be very long. Trim them so you keep a maximum of 128 words (after cleaning stop words and rare words).  \n",
    "Initialize the embedding layer using the word vectors that you've trained before, but allow them to change during training.  \n",
    "\n",
    "Extra: Try training the ConvNet with 2 slight modifications:\n",
    "1. freezing the the weights trained using Word2vec (preventing it from updating)\n",
    "1. random initialization of the embedding layer"
   ]
  },
  {
   "cell_type": "markdown",
   "metadata": {
    "colab_type": "text",
    "id": "B5S6vPLVzpE1"
   },
   "source": [
    "You are encouraged to try this question on your own.  \n",
    "\n",
    "You might prefer to get ideas from the paper \"Convolutional Neural Networks for Sentence Classification\" (Kim 2014, [link](https://arxiv.org/abs/1408.5882)).\n",
    "\n",
    "There are several implementations of the paper code in PyTorch online (see for example [this repo](https://github.com/prakashpandey9/Text-Classification-Pytorch) for a PyTorch implementation of CNN and other architectures for text classification). If you get stuck, they might provide you with a reference for your own code."
   ]
  },
  {
   "cell_type": "code",
   "execution_count": 0,
   "metadata": {
    "colab": {},
    "colab_type": "code",
    "id": "D1A0pfDYzpE1"
   },
   "outputs": [],
   "source": []
  }
 ],
 "metadata": {
  "colab": {
   "include_colab_link": true,
   "name": "DL_word_embedding_assignment.ipynb",
   "provenance": []
  },
  "kernelspec": {
   "display_name": "Python 3",
   "language": "python",
   "name": "python3"
  },
  "language_info": {
   "codemirror_mode": {
    "name": "ipython",
    "version": 3
   },
   "file_extension": ".py",
   "mimetype": "text/x-python",
   "name": "python",
   "nbconvert_exporter": "python",
   "pygments_lexer": "ipython3",
   "version": "3.6.9"
  }
 },
 "nbformat": 4,
 "nbformat_minor": 1
}
